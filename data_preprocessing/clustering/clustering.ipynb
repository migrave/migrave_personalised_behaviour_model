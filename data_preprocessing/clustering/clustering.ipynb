{
 "cells": [
  {
   "cell_type": "code",
   "execution_count": 183,
   "outputs": [],
   "source": [
    "import pandas as pd\n",
    "import os\n",
    "import yaml\n",
    "import numpy as np\n",
    "import matplotlib.pyplot as plt\n",
    "import matplotlib\n",
    "from sklearn.manifold import MDS\n",
    "from sklearn.decomposition import PCA\n",
    "from sklearn.cluster import KMeans\n",
    "\n",
    "font = {'size': 12}\n",
    "matplotlib.rc('font', **font)\n",
    "matplotlib.use(\"pgf\")\n",
    "matplotlib.rcParams.update({\n",
    "    \"pgf.texsystem\": \"pdflatex\",\n",
    "    'font.family': 'serif',\n",
    "    'text.usetex': True,\n",
    "    'pgf.rcfonts': False,\n",
    "})"
   ],
   "metadata": {
    "collapsed": false,
    "pycharm": {
     "name": "#%%\n"
    }
   }
  },
  {
   "cell_type": "code",
   "execution_count": 184,
   "outputs": [
    {
     "data": {
      "text/plain": "   participant_id  length   correct       eng\n0        03DEQR1O       3  1.000000  0.596100\n1        03DEQR1O       5  0.500000  0.497850\n2        03DEQR1O       7  0.750000  0.389925\n3        1CZ1CL1P       3  0.666667  0.713900\n4        1CZ1CL1P       5  0.250000  0.394925\n5        1CZ1CL1P       7  0.000000  0.508700\n6        1MBU59SJ       3  0.666667 -0.469133\n7        1MBU59SJ       5  1.000000 -0.601225\n8        1MBU59SJ       7  0.333333 -0.442033\n9        1PE38CJI       3  1.000000 -0.160525\n10       1PE38CJI       5  1.000000 -0.667400\n11       1PE38CJI       7  0.333333 -0.727500\n12       25NQFBB2       3  1.000000 -0.553400\n13       25NQFBB2       5  0.750000 -0.213275\n14       25NQFBB2       7  0.666667 -0.814600\n15       5J7PWO3G       3  1.000000 -0.772300\n16       5J7PWO3G       5  1.000000 -0.294100\n17       5J7PWO3G       7  0.750000 -0.464050\n18       6RGY40ES       3  1.000000 -0.905125\n19       6RGY40ES       5  1.000000 -0.979200\n20       6RGY40ES       7  0.666667 -0.951267\n21       6XTLNK55       3  1.000000  0.600725\n22       6XTLNK55       5  1.000000  0.301400\n23       6XTLNK55       7  0.000000 -0.046900\n24       76HKXYD3       3  1.000000 -0.575000\n25       76HKXYD3       5  1.000000  0.518100\n26       76HKXYD3       7  0.333333 -0.591733\n27       A9XL9U1N       3  1.000000  0.888150\n28       A9XL9U1N       5  1.000000  0.986925\n29       A9XL9U1N       7  0.500000  0.973050\n30       COT085MQ       3  1.000000 -0.454150\n31       COT085MQ       5  1.000000 -0.815375\n32       COT085MQ       7  0.000000 -0.868050\n33       F41CCF9W       3  1.000000 -0.717975\n34       F41CCF9W       5  1.000000 -0.647850\n35       F41CCF9W       7  0.500000 -0.761550\n36       J0YH72SI       3  0.666667  0.627733\n37       J0YH72SI       5  1.000000  0.656050\n38       J0YH72SI       7  0.666667  0.724133\n39       M4OE3RP5       3  1.000000  0.692533\n40       M4OE3RP5       5  1.000000  0.216325\n41       M4OE3RP5       7  1.000000  0.776333\n42       PTEM0K27       3  1.000000 -0.125667\n43       PTEM0K27       5  1.000000  0.666800\n44       PTEM0K27       7  0.666667  0.509433\n45       Q4ABT87L       3  1.000000  0.663367\n46       Q4ABT87L       5  1.000000  0.800550\n47       Q4ABT87L       7  0.666667  0.689233\n48       Q4GTE6L4       3  1.000000  0.743200\n49       Q4GTE6L4       5  0.500000  0.654675\n50       Q4GTE6L4       7  0.250000  0.547750\n51       SYBO5F61       3  1.000000 -0.874425\n52       SYBO5F61       5  0.666667 -0.833367\n53       SYBO5F61       7  0.333333 -0.899767\n54       U3L9LFS0       3  1.000000 -0.824533\n55       U3L9LFS0       5  1.000000  0.769050\n56       U3L9LFS0       7  0.333333  0.399433\n57       Z7U8NLC9       3  1.000000  0.899533\n58       Z7U8NLC9       5  1.000000  0.952175\n59       Z7U8NLC9       7  1.000000  0.990700",
      "text/html": "<div>\n<style scoped>\n    .dataframe tbody tr th:only-of-type {\n        vertical-align: middle;\n    }\n\n    .dataframe tbody tr th {\n        vertical-align: top;\n    }\n\n    .dataframe thead th {\n        text-align: right;\n    }\n</style>\n<table border=\"1\" class=\"dataframe\">\n  <thead>\n    <tr style=\"text-align: right;\">\n      <th></th>\n      <th>participant_id</th>\n      <th>length</th>\n      <th>correct</th>\n      <th>eng</th>\n    </tr>\n  </thead>\n  <tbody>\n    <tr>\n      <th>0</th>\n      <td>03DEQR1O</td>\n      <td>3</td>\n      <td>1.000000</td>\n      <td>0.596100</td>\n    </tr>\n    <tr>\n      <th>1</th>\n      <td>03DEQR1O</td>\n      <td>5</td>\n      <td>0.500000</td>\n      <td>0.497850</td>\n    </tr>\n    <tr>\n      <th>2</th>\n      <td>03DEQR1O</td>\n      <td>7</td>\n      <td>0.750000</td>\n      <td>0.389925</td>\n    </tr>\n    <tr>\n      <th>3</th>\n      <td>1CZ1CL1P</td>\n      <td>3</td>\n      <td>0.666667</td>\n      <td>0.713900</td>\n    </tr>\n    <tr>\n      <th>4</th>\n      <td>1CZ1CL1P</td>\n      <td>5</td>\n      <td>0.250000</td>\n      <td>0.394925</td>\n    </tr>\n    <tr>\n      <th>5</th>\n      <td>1CZ1CL1P</td>\n      <td>7</td>\n      <td>0.000000</td>\n      <td>0.508700</td>\n    </tr>\n    <tr>\n      <th>6</th>\n      <td>1MBU59SJ</td>\n      <td>3</td>\n      <td>0.666667</td>\n      <td>-0.469133</td>\n    </tr>\n    <tr>\n      <th>7</th>\n      <td>1MBU59SJ</td>\n      <td>5</td>\n      <td>1.000000</td>\n      <td>-0.601225</td>\n    </tr>\n    <tr>\n      <th>8</th>\n      <td>1MBU59SJ</td>\n      <td>7</td>\n      <td>0.333333</td>\n      <td>-0.442033</td>\n    </tr>\n    <tr>\n      <th>9</th>\n      <td>1PE38CJI</td>\n      <td>3</td>\n      <td>1.000000</td>\n      <td>-0.160525</td>\n    </tr>\n    <tr>\n      <th>10</th>\n      <td>1PE38CJI</td>\n      <td>5</td>\n      <td>1.000000</td>\n      <td>-0.667400</td>\n    </tr>\n    <tr>\n      <th>11</th>\n      <td>1PE38CJI</td>\n      <td>7</td>\n      <td>0.333333</td>\n      <td>-0.727500</td>\n    </tr>\n    <tr>\n      <th>12</th>\n      <td>25NQFBB2</td>\n      <td>3</td>\n      <td>1.000000</td>\n      <td>-0.553400</td>\n    </tr>\n    <tr>\n      <th>13</th>\n      <td>25NQFBB2</td>\n      <td>5</td>\n      <td>0.750000</td>\n      <td>-0.213275</td>\n    </tr>\n    <tr>\n      <th>14</th>\n      <td>25NQFBB2</td>\n      <td>7</td>\n      <td>0.666667</td>\n      <td>-0.814600</td>\n    </tr>\n    <tr>\n      <th>15</th>\n      <td>5J7PWO3G</td>\n      <td>3</td>\n      <td>1.000000</td>\n      <td>-0.772300</td>\n    </tr>\n    <tr>\n      <th>16</th>\n      <td>5J7PWO3G</td>\n      <td>5</td>\n      <td>1.000000</td>\n      <td>-0.294100</td>\n    </tr>\n    <tr>\n      <th>17</th>\n      <td>5J7PWO3G</td>\n      <td>7</td>\n      <td>0.750000</td>\n      <td>-0.464050</td>\n    </tr>\n    <tr>\n      <th>18</th>\n      <td>6RGY40ES</td>\n      <td>3</td>\n      <td>1.000000</td>\n      <td>-0.905125</td>\n    </tr>\n    <tr>\n      <th>19</th>\n      <td>6RGY40ES</td>\n      <td>5</td>\n      <td>1.000000</td>\n      <td>-0.979200</td>\n    </tr>\n    <tr>\n      <th>20</th>\n      <td>6RGY40ES</td>\n      <td>7</td>\n      <td>0.666667</td>\n      <td>-0.951267</td>\n    </tr>\n    <tr>\n      <th>21</th>\n      <td>6XTLNK55</td>\n      <td>3</td>\n      <td>1.000000</td>\n      <td>0.600725</td>\n    </tr>\n    <tr>\n      <th>22</th>\n      <td>6XTLNK55</td>\n      <td>5</td>\n      <td>1.000000</td>\n      <td>0.301400</td>\n    </tr>\n    <tr>\n      <th>23</th>\n      <td>6XTLNK55</td>\n      <td>7</td>\n      <td>0.000000</td>\n      <td>-0.046900</td>\n    </tr>\n    <tr>\n      <th>24</th>\n      <td>76HKXYD3</td>\n      <td>3</td>\n      <td>1.000000</td>\n      <td>-0.575000</td>\n    </tr>\n    <tr>\n      <th>25</th>\n      <td>76HKXYD3</td>\n      <td>5</td>\n      <td>1.000000</td>\n      <td>0.518100</td>\n    </tr>\n    <tr>\n      <th>26</th>\n      <td>76HKXYD3</td>\n      <td>7</td>\n      <td>0.333333</td>\n      <td>-0.591733</td>\n    </tr>\n    <tr>\n      <th>27</th>\n      <td>A9XL9U1N</td>\n      <td>3</td>\n      <td>1.000000</td>\n      <td>0.888150</td>\n    </tr>\n    <tr>\n      <th>28</th>\n      <td>A9XL9U1N</td>\n      <td>5</td>\n      <td>1.000000</td>\n      <td>0.986925</td>\n    </tr>\n    <tr>\n      <th>29</th>\n      <td>A9XL9U1N</td>\n      <td>7</td>\n      <td>0.500000</td>\n      <td>0.973050</td>\n    </tr>\n    <tr>\n      <th>30</th>\n      <td>COT085MQ</td>\n      <td>3</td>\n      <td>1.000000</td>\n      <td>-0.454150</td>\n    </tr>\n    <tr>\n      <th>31</th>\n      <td>COT085MQ</td>\n      <td>5</td>\n      <td>1.000000</td>\n      <td>-0.815375</td>\n    </tr>\n    <tr>\n      <th>32</th>\n      <td>COT085MQ</td>\n      <td>7</td>\n      <td>0.000000</td>\n      <td>-0.868050</td>\n    </tr>\n    <tr>\n      <th>33</th>\n      <td>F41CCF9W</td>\n      <td>3</td>\n      <td>1.000000</td>\n      <td>-0.717975</td>\n    </tr>\n    <tr>\n      <th>34</th>\n      <td>F41CCF9W</td>\n      <td>5</td>\n      <td>1.000000</td>\n      <td>-0.647850</td>\n    </tr>\n    <tr>\n      <th>35</th>\n      <td>F41CCF9W</td>\n      <td>7</td>\n      <td>0.500000</td>\n      <td>-0.761550</td>\n    </tr>\n    <tr>\n      <th>36</th>\n      <td>J0YH72SI</td>\n      <td>3</td>\n      <td>0.666667</td>\n      <td>0.627733</td>\n    </tr>\n    <tr>\n      <th>37</th>\n      <td>J0YH72SI</td>\n      <td>5</td>\n      <td>1.000000</td>\n      <td>0.656050</td>\n    </tr>\n    <tr>\n      <th>38</th>\n      <td>J0YH72SI</td>\n      <td>7</td>\n      <td>0.666667</td>\n      <td>0.724133</td>\n    </tr>\n    <tr>\n      <th>39</th>\n      <td>M4OE3RP5</td>\n      <td>3</td>\n      <td>1.000000</td>\n      <td>0.692533</td>\n    </tr>\n    <tr>\n      <th>40</th>\n      <td>M4OE3RP5</td>\n      <td>5</td>\n      <td>1.000000</td>\n      <td>0.216325</td>\n    </tr>\n    <tr>\n      <th>41</th>\n      <td>M4OE3RP5</td>\n      <td>7</td>\n      <td>1.000000</td>\n      <td>0.776333</td>\n    </tr>\n    <tr>\n      <th>42</th>\n      <td>PTEM0K27</td>\n      <td>3</td>\n      <td>1.000000</td>\n      <td>-0.125667</td>\n    </tr>\n    <tr>\n      <th>43</th>\n      <td>PTEM0K27</td>\n      <td>5</td>\n      <td>1.000000</td>\n      <td>0.666800</td>\n    </tr>\n    <tr>\n      <th>44</th>\n      <td>PTEM0K27</td>\n      <td>7</td>\n      <td>0.666667</td>\n      <td>0.509433</td>\n    </tr>\n    <tr>\n      <th>45</th>\n      <td>Q4ABT87L</td>\n      <td>3</td>\n      <td>1.000000</td>\n      <td>0.663367</td>\n    </tr>\n    <tr>\n      <th>46</th>\n      <td>Q4ABT87L</td>\n      <td>5</td>\n      <td>1.000000</td>\n      <td>0.800550</td>\n    </tr>\n    <tr>\n      <th>47</th>\n      <td>Q4ABT87L</td>\n      <td>7</td>\n      <td>0.666667</td>\n      <td>0.689233</td>\n    </tr>\n    <tr>\n      <th>48</th>\n      <td>Q4GTE6L4</td>\n      <td>3</td>\n      <td>1.000000</td>\n      <td>0.743200</td>\n    </tr>\n    <tr>\n      <th>49</th>\n      <td>Q4GTE6L4</td>\n      <td>5</td>\n      <td>0.500000</td>\n      <td>0.654675</td>\n    </tr>\n    <tr>\n      <th>50</th>\n      <td>Q4GTE6L4</td>\n      <td>7</td>\n      <td>0.250000</td>\n      <td>0.547750</td>\n    </tr>\n    <tr>\n      <th>51</th>\n      <td>SYBO5F61</td>\n      <td>3</td>\n      <td>1.000000</td>\n      <td>-0.874425</td>\n    </tr>\n    <tr>\n      <th>52</th>\n      <td>SYBO5F61</td>\n      <td>5</td>\n      <td>0.666667</td>\n      <td>-0.833367</td>\n    </tr>\n    <tr>\n      <th>53</th>\n      <td>SYBO5F61</td>\n      <td>7</td>\n      <td>0.333333</td>\n      <td>-0.899767</td>\n    </tr>\n    <tr>\n      <th>54</th>\n      <td>U3L9LFS0</td>\n      <td>3</td>\n      <td>1.000000</td>\n      <td>-0.824533</td>\n    </tr>\n    <tr>\n      <th>55</th>\n      <td>U3L9LFS0</td>\n      <td>5</td>\n      <td>1.000000</td>\n      <td>0.769050</td>\n    </tr>\n    <tr>\n      <th>56</th>\n      <td>U3L9LFS0</td>\n      <td>7</td>\n      <td>0.333333</td>\n      <td>0.399433</td>\n    </tr>\n    <tr>\n      <th>57</th>\n      <td>Z7U8NLC9</td>\n      <td>3</td>\n      <td>1.000000</td>\n      <td>0.899533</td>\n    </tr>\n    <tr>\n      <th>58</th>\n      <td>Z7U8NLC9</td>\n      <td>5</td>\n      <td>1.000000</td>\n      <td>0.952175</td>\n    </tr>\n    <tr>\n      <th>59</th>\n      <td>Z7U8NLC9</td>\n      <td>7</td>\n      <td>1.000000</td>\n      <td>0.990700</td>\n    </tr>\n  </tbody>\n</table>\n</div>"
     },
     "execution_count": 184,
     "metadata": {},
     "output_type": "execute_result"
    }
   ],
   "source": [
    "df = pd.read_csv(\"final.csv\")\n",
    "# Commented because there is no more engagement from the tablet\n",
    "# df['eng'] = df[['eng_qt', 'eng_tab']].mean(axis=1)\n",
    "df['eng'] = df['eng_qt']\n",
    "del df['eng_qt']\n",
    "features = df.groupby(['participant_id', 'length']).mean()[['correct', 'eng']]\n",
    "features = features.reset_index()\n",
    "features"
   ],
   "metadata": {
    "collapsed": false,
    "pycharm": {
     "name": "#%%\n"
    }
   }
  },
  {
   "cell_type": "code",
   "execution_count": 185,
   "outputs": [
    {
     "data": {
      "text/plain": "array([[ 1.        ,  0.5961    ,  0.5       ,  0.49785   ,  0.75      ,\n         0.389925  ],\n       [ 0.66666667,  0.7139    ,  0.25      ,  0.394925  ,  0.        ,\n         0.5087    ],\n       [ 0.66666667, -0.46913333,  1.        , -0.601225  ,  0.33333333,\n        -0.44203333],\n       [ 1.        , -0.160525  ,  1.        , -0.6674    ,  0.33333333,\n        -0.7275    ],\n       [ 1.        , -0.5534    ,  0.75      , -0.213275  ,  0.66666667,\n        -0.8146    ],\n       [ 1.        , -0.7723    ,  1.        , -0.2941    ,  0.75      ,\n        -0.46405   ],\n       [ 1.        , -0.905125  ,  1.        , -0.9792    ,  0.66666667,\n        -0.95126667],\n       [ 1.        ,  0.600725  ,  1.        ,  0.3014    ,  0.        ,\n        -0.0469    ],\n       [ 1.        , -0.575     ,  1.        ,  0.5181    ,  0.33333333,\n        -0.59173333],\n       [ 1.        ,  0.88815   ,  1.        ,  0.986925  ,  0.5       ,\n         0.97305   ],\n       [ 1.        , -0.45415   ,  1.        , -0.815375  ,  0.        ,\n        -0.86805   ],\n       [ 1.        , -0.717975  ,  1.        , -0.64785   ,  0.5       ,\n        -0.76155   ],\n       [ 0.66666667,  0.62773333,  1.        ,  0.65605   ,  0.66666667,\n         0.72413333],\n       [ 1.        ,  0.69253333,  1.        ,  0.216325  ,  1.        ,\n         0.77633333],\n       [ 1.        , -0.12566667,  1.        ,  0.6668    ,  0.66666667,\n         0.50943333],\n       [ 1.        ,  0.66336667,  1.        ,  0.80055   ,  0.66666667,\n         0.68923333],\n       [ 1.        ,  0.7432    ,  0.5       ,  0.654675  ,  0.25      ,\n         0.54775   ],\n       [ 1.        , -0.874425  ,  0.66666667, -0.83336667,  0.33333333,\n        -0.89976667],\n       [ 1.        , -0.82453333,  1.        ,  0.76905   ,  0.33333333,\n         0.39943333],\n       [ 1.        ,  0.89953333,  1.        ,  0.952175  ,  1.        ,\n         0.9907    ]])"
     },
     "execution_count": 185,
     "metadata": {},
     "output_type": "execute_result"
    }
   ],
   "source": [
    "user_vectors = []\n",
    "for key in features['participant_id'].unique():\n",
    "    user_features = np.array(features.loc[features['participant_id']==key, ['correct', 'eng']])\n",
    "    user_vectors.append(user_features.flatten())\n",
    "\n",
    "user_vectors = np.array(user_vectors)\n",
    "user_vectors"
   ],
   "metadata": {
    "collapsed": false,
    "pycharm": {
     "name": "#%%\n"
    }
   }
  },
  {
   "cell_type": "code",
   "execution_count": 186,
   "outputs": [],
   "source": [
    "embedding = MDS(n_components=2)\n",
    "X = embedding.fit_transform(user_vectors)\n",
    "clusters = KMeans(n_clusters=2, random_state=0).fit(X)"
   ],
   "metadata": {
    "collapsed": false,
    "pycharm": {
     "name": "#%%\n"
    }
   }
  },
  {
   "cell_type": "code",
   "execution_count": 187,
   "outputs": [],
   "source": [
    "embedding_pca = PCA(n_components=2)\n",
    "X_pca = embedding.fit_transform(user_vectors)\n",
    "clusters_pca = KMeans(n_clusters=2, random_state=0).fit(X_pca)"
   ],
   "metadata": {
    "collapsed": false,
    "pycharm": {
     "name": "#%%\n"
    }
   }
  },
  {
   "cell_type": "code",
   "execution_count": 188,
   "outputs": [
    {
     "name": "stdout",
     "output_type": "stream",
     "text": [
      "PCA gives same result as MDS: True\n"
     ]
    }
   ],
   "source": [
    "print(f\"PCA gives same result as MDS: {np.all(clusters.labels_ == clusters_pca.labels_)}\")"
   ],
   "metadata": {
    "collapsed": false,
    "pycharm": {
     "name": "#%%\n"
    }
   }
  },
  {
   "cell_type": "code",
   "execution_count": 189,
   "outputs": [],
   "source": [
    "# Plotting projection of both user clusters\n",
    "label_0 = [id for id, label in enumerate(clusters_pca.labels_) if label==0]\n",
    "label_1 = [id for id, label in enumerate(clusters_pca.labels_) if label==1]\n",
    "plt.figure(figsize=(3, 3), dpi=100)\n",
    "plt.scatter(X[label_0, 0], X[label_0, 1], c='r', label=r'$C_1$')\n",
    "plt.scatter(X[label_1, 0], X[label_1, 1], c='b', label='$C_2$')\n",
    "plt.xlabel(\"FPC\")\n",
    "plt.ylabel(\"SPC\")\n",
    "plt.xticks([-1, 0, 1])\n",
    "plt.yticks([-1, 0, 1])\n",
    "plt.gca().set_aspect('equal', adjustable='box')\n",
    "plt.grid(zorder=0)\n",
    "plt.legend(frameon=True)\n",
    "plt.savefig(os.path.join('output', f\"clusters.pdf\"),\n",
    "            bbox_inches='tight')"
   ],
   "metadata": {
    "collapsed": false,
    "pycharm": {
     "name": "#%%\n"
    }
   }
  },
  {
   "cell_type": "code",
   "execution_count": 190,
   "outputs": [],
   "source": [
    "df['cluster'] = 0\n",
    "for user, cluster in zip(features['participant_id'].unique(), clusters_pca.labels_):\n",
    "    df.loc[df['participant_id'] == user, 'cluster'] = cluster"
   ],
   "metadata": {
    "collapsed": false,
    "pycharm": {
     "name": "#%%\n"
    }
   }
  },
  {
   "cell_type": "code",
   "execution_count": 191,
   "outputs": [],
   "source": [
    "# Plotting statistics of both cluster users\n",
    "df_cluster_plt = df.copy(deep=True)\n",
    "length_difficulty_map = {3:1, 5:2, 7:3}\n",
    "df_cluster_plt['difficulty'] = 0\n",
    "\n",
    "for length in length_difficulty_map:\n",
    "    df_cluster_plt.loc[df_cluster_plt['length']==length, 'difficulty'] = length_difficulty_map[length]\n",
    "\n",
    "cluster_features_plot = df_cluster_plt.groupby(['cluster', 'difficulty']).mean()[['correct', 'eng']].reset_index()\n",
    "cluster_features_std_plot = df_cluster_plt.groupby(['cluster', 'difficulty']).std()[['correct', 'eng']].reset_index()\n",
    "fig, axes = plt.subplots(2, sharex=True, figsize=(5, 3), dpi=100)\n",
    "label_map = {'correct': r'$P($success$|L)$', 'eng': 'Engagement'}\n",
    "\n",
    "for feature, ax in zip(['eng', 'correct'], axes):\n",
    "    for cluster, color in zip([0, 1], ['red', 'blue']):\n",
    "        plt_data = cluster_features_plot.loc[cluster_features_plot['cluster']==cluster, ['difficulty', feature]]\n",
    "        plt_data['std'] = cluster_features_std_plot.loc[cluster_features_std_plot['cluster']==cluster, feature]\n",
    "        plt_data['min'] = plt_data[feature] - plt_data['std']\n",
    "        plt_data['max'] = plt_data[feature] + plt_data['std']\n",
    "\n",
    "        if feature=='eng':\n",
    "            plt_data.loc[plt_data['min']<-1, 'min'] = -1\n",
    "        elif feature=='correct':\n",
    "            plt_data.loc[plt_data['min']<0, 'min'] = 0\n",
    "\n",
    "        plt_data.loc[plt_data['max']>1, 'max'] = 1\n",
    "\n",
    "        ax.errorbar(plt_data['difficulty'], plt_data[feature], yerr=(plt_data[feature]-plt_data['min'], plt_data['max']-plt_data[feature]), fmt='--o', linewidth=1, color=color,\n",
    "             ecolor=f\"tab:{color}\",elinewidth=1 , capsize=4, label=f\"$C_{cluster+1}\")\n",
    "\n",
    "    if feature=='eng':\n",
    "        ax.set(ylabel=label_map[feature], xticks=[1, 2, 3], yticks=[-1, 0, 1])\n",
    "    elif feature=='correct':\n",
    "        ax.set(ylabel=label_map[feature], xticks=[1, 2, 3], yticks=[0, 0.5, 1])\n",
    "    ax.grid(zorder=0)\n",
    "fig.supxlabel('Difficulty Level')\n",
    "plt.legend(frameon=True)\n",
    "plt.savefig(os.path.join('output', f\"clusters_statistics.pdf\"),\n",
    "            bbox_inches='tight')"
   ],
   "metadata": {
    "collapsed": false,
    "pycharm": {
     "name": "#%%\n"
    }
   }
  },
  {
   "cell_type": "code",
   "execution_count": 192,
   "outputs": [],
   "source": [
    "# Checking if giving feedback has any effect\n",
    "final_df_cpy = df.copy(deep=True)\n",
    "final_df_cpy['eng_diff'] = 0\n",
    "\n",
    "f_id = np.array(final_df_cpy.index[final_df_cpy['feedback']>0])\n",
    "f_id_prev = f_id - 1\n",
    "eng_curr = np.array(final_df_cpy.loc[f_id, 'eng'])\n",
    "eng_prev = np.array(final_df_cpy.loc[f_id_prev, 'eng'])\n",
    "eng_diff = eng_curr - eng_prev\n",
    "final_df_cpy.loc[f_id, 'eng_diff'] = eng_diff"
   ],
   "metadata": {
    "collapsed": false,
    "pycharm": {
     "name": "#%%\n"
    }
   }
  },
  {
   "cell_type": "code",
   "execution_count": 193,
   "outputs": [
    {
     "data": {
      "text/plain": "         eng_diff\ncluster          \n0        0.477273\n1        0.555556",
      "text/html": "<div>\n<style scoped>\n    .dataframe tbody tr th:only-of-type {\n        vertical-align: middle;\n    }\n\n    .dataframe tbody tr th {\n        vertical-align: top;\n    }\n\n    .dataframe thead th {\n        text-align: right;\n    }\n</style>\n<table border=\"1\" class=\"dataframe\">\n  <thead>\n    <tr style=\"text-align: right;\">\n      <th></th>\n      <th>eng_diff</th>\n    </tr>\n    <tr>\n      <th>cluster</th>\n      <th></th>\n    </tr>\n  </thead>\n  <tbody>\n    <tr>\n      <th>0</th>\n      <td>0.477273</td>\n    </tr>\n    <tr>\n      <th>1</th>\n      <td>0.555556</td>\n    </tr>\n  </tbody>\n</table>\n</div>"
     },
     "execution_count": 193,
     "metadata": {},
     "output_type": "execute_result"
    }
   ],
   "source": [
    "#What is the probability that change in engagement is positive after giving feedback\n",
    "final_df_cpy.loc[final_df_cpy['eng_diff']>0, ['cluster','eng_diff']].groupby('cluster').count()/final_df_cpy.loc[final_df_cpy['feedback']>0, ['cluster','eng_diff']].groupby('cluster').count()"
   ],
   "metadata": {
    "collapsed": false,
    "pycharm": {
     "name": "#%%\n"
    }
   }
  },
  {
   "cell_type": "code",
   "execution_count": 194,
   "outputs": [],
   "source": [
    "task_map = {-3: -1, -5:-2, -7:-3, 3: 1, 5:2, 7:3}\n",
    "result_map = {1:1, 0:-1}\n",
    "action_map = {(3, 0): 0, (5, 0): 1, (7, 0): 2, (3, 1): 3, (5, 1): 3, (7, 1): 3, (3, 2): 4, (5, 2): 4, (7, 2): 4}\n",
    "\n",
    "df_fin = df.copy(deep=True)\n",
    "\n",
    "df_fin['current_score'] = 0\n",
    "df_fin['previous_score'] = 0\n",
    "df_fin['current_result'] = 0\n",
    "df_fin['action'] = 0\n",
    "\n",
    "df_fin['current_result'] = [result_map[result] for result in list(df_fin['correct'])]\n",
    "df_fin['current_score'] = [task_map[current_score*current_result] for current_score, current_result in zip(list(df_fin['length']), list(df_fin['current_result']))]\n",
    "\n",
    "df_fin['engagement'] = df_fin['eng']\n",
    "del df_fin['eng']\n",
    "del df_fin['correct']\n",
    "\n",
    "df_fin['robot_feedback'] = df_fin['feedback']\n",
    "del df_fin['feedback']\n",
    "\n",
    "# Add previous score and action fields\n",
    "for user in df_fin['participant_id'].unique():\n",
    "    df_fin.loc[df_fin['participant_id']==user, 'previous_score'] = df_fin.loc[df_fin['participant_id']==user, 'current_score'].shift(periods=1, fill_value=0)\n",
    "\n",
    "    actions = np.roll(np.array([action_map[(length, feedback)] for length, feedback in\n",
    "                                zip(list(df_fin.loc[df_fin['participant_id']==user, 'length']),\n",
    "                                    list(df_fin.loc[df_fin['participant_id']==user, 'robot_feedback']))]), -1)\n",
    "    actions[-1] = -1\n",
    "    df_fin.loc[df_fin['participant_id']==user, 'action'] = actions\n",
    "\n",
    "df_fin = df_fin.reindex(columns=['cluster','participant_id','secs','length','current_score', 'previous_score', 'current_result', 'robot_feedback', 'action', 'engagement', 'duration', 'id'])"
   ],
   "metadata": {
    "collapsed": false,
    "pycharm": {
     "name": "#%%\n"
    }
   }
  },
  {
   "cell_type": "code",
   "execution_count": 195,
   "outputs": [
    {
     "data": {
      "text/plain": "     cluster participant_id        secs  length  current_score  \\\n0          0       1CZ1CL1P  1648134409       7             -3   \n1          0       1CZ1CL1P  1648134452       7             -3   \n2          0       1CZ1CL1P  1648134490       5             -2   \n3          0       1CZ1CL1P  1648134519       5             -2   \n4          0       1CZ1CL1P  1648134550       3              1   \n..       ...            ...         ...     ...            ...   \n195        1       1PE38CJI  1647955491       7             -3   \n196        1       1PE38CJI  1647955532       7             -3   \n197        1       1PE38CJI  1647955578       5              2   \n198        1       1PE38CJI  1647955612       5              2   \n199        1       1PE38CJI  1647955650       5              2   \n\n     previous_score  current_result  robot_feedback  action  engagement  \\\n0                 0              -1               0       2      1.0000   \n1                -3              -1               0       3      0.3114   \n2                -3              -1               1       1      0.6612   \n3                -2              -1               0       4      0.6728   \n4                -2               1               2       0      0.6064   \n..              ...             ...             ...     ...         ...   \n195               3              -1               0       2     -0.7966   \n196              -3              -1               0       4     -0.6516   \n197              -3               1               2       1     -0.4588   \n198               2               1               0       3     -0.7897   \n199               2               1               1      -1     -0.7537   \n\n     duration  id  \n0     17.0509   0  \n1     12.4892   1  \n2      6.6176   2  \n3      5.2145   3  \n4      6.2580   4  \n..        ...  ..  \n195    8.5898   5  \n196   11.3520   6  \n197   13.0154   7  \n198    9.0707   8  \n199    8.8822   9  \n\n[200 rows x 12 columns]",
      "text/html": "<div>\n<style scoped>\n    .dataframe tbody tr th:only-of-type {\n        vertical-align: middle;\n    }\n\n    .dataframe tbody tr th {\n        vertical-align: top;\n    }\n\n    .dataframe thead th {\n        text-align: right;\n    }\n</style>\n<table border=\"1\" class=\"dataframe\">\n  <thead>\n    <tr style=\"text-align: right;\">\n      <th></th>\n      <th>cluster</th>\n      <th>participant_id</th>\n      <th>secs</th>\n      <th>length</th>\n      <th>current_score</th>\n      <th>previous_score</th>\n      <th>current_result</th>\n      <th>robot_feedback</th>\n      <th>action</th>\n      <th>engagement</th>\n      <th>duration</th>\n      <th>id</th>\n    </tr>\n  </thead>\n  <tbody>\n    <tr>\n      <th>0</th>\n      <td>0</td>\n      <td>1CZ1CL1P</td>\n      <td>1648134409</td>\n      <td>7</td>\n      <td>-3</td>\n      <td>0</td>\n      <td>-1</td>\n      <td>0</td>\n      <td>2</td>\n      <td>1.0000</td>\n      <td>17.0509</td>\n      <td>0</td>\n    </tr>\n    <tr>\n      <th>1</th>\n      <td>0</td>\n      <td>1CZ1CL1P</td>\n      <td>1648134452</td>\n      <td>7</td>\n      <td>-3</td>\n      <td>-3</td>\n      <td>-1</td>\n      <td>0</td>\n      <td>3</td>\n      <td>0.3114</td>\n      <td>12.4892</td>\n      <td>1</td>\n    </tr>\n    <tr>\n      <th>2</th>\n      <td>0</td>\n      <td>1CZ1CL1P</td>\n      <td>1648134490</td>\n      <td>5</td>\n      <td>-2</td>\n      <td>-3</td>\n      <td>-1</td>\n      <td>1</td>\n      <td>1</td>\n      <td>0.6612</td>\n      <td>6.6176</td>\n      <td>2</td>\n    </tr>\n    <tr>\n      <th>3</th>\n      <td>0</td>\n      <td>1CZ1CL1P</td>\n      <td>1648134519</td>\n      <td>5</td>\n      <td>-2</td>\n      <td>-2</td>\n      <td>-1</td>\n      <td>0</td>\n      <td>4</td>\n      <td>0.6728</td>\n      <td>5.2145</td>\n      <td>3</td>\n    </tr>\n    <tr>\n      <th>4</th>\n      <td>0</td>\n      <td>1CZ1CL1P</td>\n      <td>1648134550</td>\n      <td>3</td>\n      <td>1</td>\n      <td>-2</td>\n      <td>1</td>\n      <td>2</td>\n      <td>0</td>\n      <td>0.6064</td>\n      <td>6.2580</td>\n      <td>4</td>\n    </tr>\n    <tr>\n      <th>...</th>\n      <td>...</td>\n      <td>...</td>\n      <td>...</td>\n      <td>...</td>\n      <td>...</td>\n      <td>...</td>\n      <td>...</td>\n      <td>...</td>\n      <td>...</td>\n      <td>...</td>\n      <td>...</td>\n      <td>...</td>\n    </tr>\n    <tr>\n      <th>195</th>\n      <td>1</td>\n      <td>1PE38CJI</td>\n      <td>1647955491</td>\n      <td>7</td>\n      <td>-3</td>\n      <td>3</td>\n      <td>-1</td>\n      <td>0</td>\n      <td>2</td>\n      <td>-0.7966</td>\n      <td>8.5898</td>\n      <td>5</td>\n    </tr>\n    <tr>\n      <th>196</th>\n      <td>1</td>\n      <td>1PE38CJI</td>\n      <td>1647955532</td>\n      <td>7</td>\n      <td>-3</td>\n      <td>-3</td>\n      <td>-1</td>\n      <td>0</td>\n      <td>4</td>\n      <td>-0.6516</td>\n      <td>11.3520</td>\n      <td>6</td>\n    </tr>\n    <tr>\n      <th>197</th>\n      <td>1</td>\n      <td>1PE38CJI</td>\n      <td>1647955578</td>\n      <td>5</td>\n      <td>2</td>\n      <td>-3</td>\n      <td>1</td>\n      <td>2</td>\n      <td>1</td>\n      <td>-0.4588</td>\n      <td>13.0154</td>\n      <td>7</td>\n    </tr>\n    <tr>\n      <th>198</th>\n      <td>1</td>\n      <td>1PE38CJI</td>\n      <td>1647955612</td>\n      <td>5</td>\n      <td>2</td>\n      <td>2</td>\n      <td>1</td>\n      <td>0</td>\n      <td>3</td>\n      <td>-0.7897</td>\n      <td>9.0707</td>\n      <td>8</td>\n    </tr>\n    <tr>\n      <th>199</th>\n      <td>1</td>\n      <td>1PE38CJI</td>\n      <td>1647955650</td>\n      <td>5</td>\n      <td>2</td>\n      <td>2</td>\n      <td>1</td>\n      <td>1</td>\n      <td>-1</td>\n      <td>-0.7537</td>\n      <td>8.8822</td>\n      <td>9</td>\n    </tr>\n  </tbody>\n</table>\n<p>200 rows × 12 columns</p>\n</div>"
     },
     "execution_count": 195,
     "metadata": {},
     "output_type": "execute_result"
    }
   ],
   "source": [
    "df_fin"
   ],
   "metadata": {
    "collapsed": false,
    "pycharm": {
     "name": "#%%\n"
    }
   }
  },
  {
   "cell_type": "code",
   "execution_count": 196,
   "outputs": [],
   "source": [
    "df_fin.to_csv(\"output/final_clustered.csv\", header=True, index=None, sep=',', float_format='%10.4f', mode='w')"
   ],
   "metadata": {
    "collapsed": false,
    "pycharm": {
     "name": "#%%\n"
    }
   }
  },
  {
   "cell_type": "code",
   "execution_count": 196,
   "outputs": [],
   "source": [],
   "metadata": {
    "collapsed": false,
    "pycharm": {
     "name": "#%%\n"
    }
   }
  }
 ],
 "metadata": {
  "kernelspec": {
   "display_name": "Python 3",
   "language": "python",
   "name": "python3"
  },
  "language_info": {
   "codemirror_mode": {
    "name": "ipython",
    "version": 2
   },
   "file_extension": ".py",
   "mimetype": "text/x-python",
   "name": "python",
   "nbconvert_exporter": "python",
   "pygments_lexer": "ipython2",
   "version": "2.7.6"
  }
 },
 "nbformat": 4,
 "nbformat_minor": 0
}