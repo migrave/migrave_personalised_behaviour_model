{
 "cells": [
  {
   "cell_type": "code",
   "execution_count": null,
   "metadata": {
    "pycharm": {
     "name": "#%%\n"
    }
   },
   "outputs": [],
   "source": [
    "'''\n",
    "    Copyright 2022 by Michał Stolarz <michal.stolarz@h-brs.de>\n",
    "\n",
    "    This file is part of migrave_personalised_behaviour_model.\n",
    "    It is used for creating the user vectors, projecting them on the 2D space and clustering into two groups, saving the results in the csv file and plotting.\n",
    "\n",
    "    migrave_personalised_behaviour_model is free software: you can redistribute it and/or modify\n",
    "    it under the terms of the GNU Affero General Public License as published by\n",
    "    the Free Software Foundation, either version 3 of the License, or\n",
    "    (at your option) any later version.\n",
    "    migrave_personalised_behaviour_model is distributed in the hope that it will be useful,\n",
    "    but WITHOUT ANY WARRANTY; without even the implied warranty of\n",
    "    MERCHANTABILITY or FITNESS FOR A PARTICULAR PURPOSE.  See the\n",
    "    GNU Affero General Public License for more details.\n",
    "    You should have received a copy of the GNU Affero General Public License\n",
    "    along with migrave_personalised_behaviour_model. If not, see <http://www.gnu.org/licenses/>.\n",
    "'''\n",
    "\n",
    "import pandas as pd\n",
    "import os\n",
    "import yaml\n",
    "import numpy as np\n",
    "import matplotlib.pyplot as plt\n",
    "import matplotlib\n",
    "from sklearn.manifold import MDS\n",
    "from sklearn.decomposition import PCA\n",
    "from sklearn.cluster import KMeans\n",
    "from sklearn.preprocessing import StandardScaler\n",
    "\n",
    "font = {'size': 12}\n",
    "matplotlib.rc('font', **font)\n",
    "matplotlib.use(\"pgf\")\n",
    "matplotlib.rcParams.update({\n",
    "    \"pgf.texsystem\": \"pdflatex\",\n",
    "    'font.family': 'serif',\n",
    "    'text.usetex': True,\n",
    "    'pgf.rcfonts': False,\n",
    "})\n",
    "scaler = StandardScaler()"
   ]
  },
  {
   "cell_type": "code",
   "execution_count": null,
   "metadata": {
    "pycharm": {
     "is_executing": true,
     "name": "#%%\n"
    }
   },
   "outputs": [],
   "source": [
    "df = pd.read_csv(\"final.csv\")\n",
    "df['eng'] = df['eng_qt']\n",
    "del df['eng_qt']\n",
    "features = df.groupby(['participant_id', 'length']).mean()[['correct', 'eng']]\n",
    "features = features.reset_index()\n",
    "features"
   ]
  },
  {
   "cell_type": "code",
   "execution_count": null,
   "metadata": {
    "pycharm": {
     "is_executing": true,
     "name": "#%%\n"
    }
   },
   "outputs": [],
   "source": [
    "# Creating user vectors\n",
    "user_vectors = []\n",
    "for key in features['participant_id'].unique():\n",
    "    user_features = np.array(features.loc[features['participant_id']==key, ['correct', 'eng']])\n",
    "    user_vectors.append(user_features.flatten())\n",
    "\n",
    "user_vectors = np.array(user_vectors)\n",
    "user_vectors"
   ]
  },
  {
   "cell_type": "code",
   "execution_count": null,
   "metadata": {},
   "outputs": [],
   "source": [
    "user_vectors_scaled = scaler.fit_transform(user_vectors)"
   ]
  },
  {
   "cell_type": "code",
   "execution_count": null,
   "metadata": {
    "pycharm": {
     "name": "#%%\n"
    }
   },
   "outputs": [],
   "source": [
    "# Projecting the user vectors into 2D space with the use of MDS and clustering\n",
    "embedding_mds = MDS(n_components=2)\n",
    "X_mds = embedding_mds.fit_transform(user_vectors_scaled)\n",
    "clusters_mds = KMeans(n_clusters=2, random_state=0).fit(X_mds)"
   ]
  },
  {
   "cell_type": "code",
   "execution_count": null,
   "metadata": {
    "pycharm": {
     "name": "#%%\n"
    }
   },
   "outputs": [],
   "source": [
    "# Projecting the user vectors into 2D space with the use of PCA and clustering\n",
    "embedding_pca = PCA(n_components=2)\n",
    "X_pca = embedding_pca.fit_transform(user_vectors_scaled)\n",
    "clusters_pca = KMeans(n_clusters=2, random_state=0).fit(X_pca)"
   ]
  },
  {
   "cell_type": "code",
   "execution_count": null,
   "metadata": {
    "pycharm": {
     "is_executing": true,
     "name": "#%%\n"
    }
   },
   "outputs": [],
   "source": [
    "print(f\"PCA gives same result as MDS: {np.all(clusters_mds.labels_ == clusters_pca.labels_)}\")"
   ]
  },
  {
   "cell_type": "code",
   "execution_count": null,
   "metadata": {
    "pycharm": {
     "name": "#%%\n"
    }
   },
   "outputs": [],
   "source": [
    "# Plotting projection of both user clusters\n",
    "label_0 = [id for id, label in enumerate(clusters_pca.labels_) if label==0]\n",
    "label_1 = [id for id, label in enumerate(clusters_pca.labels_) if label==1]\n",
    "plt.figure(figsize=(3, 3), dpi=100)\n",
    "plt.scatter(X_pca[label_0, 0], X_pca[label_0, 1], c='r', label=r'$C_1$')\n",
    "plt.scatter(X_pca[label_1, 0], X_pca[label_1, 1], c='b', label='$C_2$')\n",
    "plt.xlabel(\"FPC\")\n",
    "plt.ylabel(\"SPC\")\n",
    "#plt.xticks([-2, -1, 0, 1, 2])\n",
    "#plt.yticks([-2, -1, 0, 1, 2])\n",
    "plt.gca().set_aspect('equal', adjustable='box')\n",
    "plt.grid(zorder=0)\n",
    "plt.legend(frameon=True)\n",
    "plt.savefig(os.path.join('output', f\"clusters.pdf\"),\n",
    "            bbox_inches='tight')"
   ]
  },
  {
   "cell_type": "code",
   "execution_count": null,
   "metadata": {
    "pycharm": {
     "name": "#%%\n"
    }
   },
   "outputs": [],
   "source": [
    "# Assigning user to cluster\n",
    "df['cluster'] = 0\n",
    "for user, cluster in zip(features['participant_id'].unique(), clusters_pca.labels_):\n",
    "    df.loc[df['participant_id'] == user, 'cluster'] = cluster"
   ]
  },
  {
   "cell_type": "code",
   "execution_count": null,
   "metadata": {
    "pycharm": {
     "name": "#%%\n"
    }
   },
   "outputs": [],
   "source": [
    "# Plotting statistics of both cluster users\n",
    "df_cluster_plt = df.copy(deep=True)\n",
    "length_difficulty_map = {3:1, 5:2, 7:3}\n",
    "df_cluster_plt['difficulty'] = 0\n",
    "\n",
    "for length in length_difficulty_map:\n",
    "    df_cluster_plt.loc[df_cluster_plt['length']==length, 'difficulty'] = length_difficulty_map[length]\n",
    "\n",
    "cluster_features_plot = df_cluster_plt.groupby(['cluster', 'difficulty']).mean()[['correct', 'eng']].reset_index()\n",
    "cluster_features_std_plot = df_cluster_plt.groupby(['cluster', 'difficulty']).std()[['correct', 'eng']].reset_index()\n",
    "fig, axes = plt.subplots(2, sharex=True, figsize=(5, 3), dpi=100)\n",
    "label_map = {'correct': r'$P($success$|L)$', 'eng': 'Engagement'}\n",
    "\n",
    "for feature, ax in zip(['eng', 'correct'], axes):\n",
    "    for cluster, color in zip([0, 1], ['red', 'blue']):\n",
    "        plt_data = cluster_features_plot.loc[cluster_features_plot['cluster']==cluster, ['difficulty', feature]]\n",
    "        plt_data['std'] = cluster_features_std_plot.loc[cluster_features_std_plot['cluster']==cluster, feature]\n",
    "        plt_data['min'] = plt_data[feature] - plt_data['std']\n",
    "        plt_data['max'] = plt_data[feature] + plt_data['std']\n",
    "\n",
    "        if feature=='eng':\n",
    "            plt_data.loc[plt_data['min']<-1, 'min'] = -1\n",
    "        elif feature=='correct':\n",
    "            plt_data.loc[plt_data['min']<0, 'min'] = 0\n",
    "\n",
    "        plt_data.loc[plt_data['max']>1, 'max'] = 1\n",
    "\n",
    "        ax.errorbar(plt_data['difficulty'], plt_data[feature], yerr=(plt_data[feature]-plt_data['min'], plt_data['max']-plt_data[feature]), fmt='--o', linewidth=1, color=color,\n",
    "             ecolor=f\"tab:{color}\",elinewidth=1 , capsize=4, label=f\"$C_{cluster+1}\")\n",
    "\n",
    "    if feature=='eng':\n",
    "        ax.set(ylabel=label_map[feature], xticks=[1, 2, 3], yticks=[-1, 0, 1])\n",
    "    elif feature=='correct':\n",
    "        ax.set(ylabel=label_map[feature], xticks=[1, 2, 3], yticks=[0, 0.5, 1])\n",
    "    ax.grid(zorder=0)\n",
    "fig.supxlabel('Difficulty Level')\n",
    "plt.legend(frameon=True)\n",
    "plt.savefig(os.path.join('output', f\"clusters_statistics.pdf\"),\n",
    "            bbox_inches='tight')"
   ]
  },
  {
   "cell_type": "code",
   "execution_count": null,
   "metadata": {
    "pycharm": {
     "name": "#%%\n"
    }
   },
   "outputs": [],
   "source": [
    "# Saving clustering results in the pandas dataframe\n",
    "task_map = {-3: -1, -5:-2, -7:-3, 3: 1, 5:2, 7:3}\n",
    "result_map = {1:1, 0:-1}\n",
    "action_map = {(3, 0): 0, (5, 0): 1, (7, 0): 2, (3, 1): 3, (5, 1): 3, (7, 1): 3, (3, 2): 4, (5, 2): 4, (7, 2): 4}\n",
    "\n",
    "df_fin = df.copy(deep=True)\n",
    "\n",
    "df_fin['current_score'] = 0\n",
    "df_fin['previous_score'] = 0\n",
    "df_fin['current_result'] = 0\n",
    "df_fin['action'] = 0\n",
    "\n",
    "df_fin['current_result'] = [result_map[result] for result in list(df_fin['correct'])]\n",
    "df_fin['current_score'] = [task_map[current_score*current_result] for current_score, current_result in zip(list(df_fin['length']), list(df_fin['current_result']))]\n",
    "\n",
    "df_fin['engagement'] = df_fin['eng']\n",
    "del df_fin['eng']\n",
    "del df_fin['correct']\n",
    "\n",
    "df_fin['robot_feedback'] = df_fin['feedback']\n",
    "del df_fin['feedback']\n",
    "\n",
    "# Add previous score and action fields\n",
    "for user in df_fin['participant_id'].unique():\n",
    "    df_fin.loc[df_fin['participant_id']==user, 'previous_score'] = df_fin.loc[df_fin['participant_id']==user, 'current_score'].shift(periods=1, fill_value=0)\n",
    "\n",
    "    actions = np.roll(np.array([action_map[(length, feedback)] for length, feedback in\n",
    "                                zip(list(df_fin.loc[df_fin['participant_id']==user, 'length']),\n",
    "                                    list(df_fin.loc[df_fin['participant_id']==user, 'robot_feedback']))]), -1)\n",
    "    actions[-1] = -1\n",
    "    df_fin.loc[df_fin['participant_id']==user, 'action'] = actions\n",
    "\n",
    "df_fin = df_fin.reindex(columns=['cluster','participant_id','secs','length','current_score', 'previous_score', 'current_result', 'robot_feedback', 'action', 'engagement', 'duration', 'id'])"
   ]
  },
  {
   "cell_type": "code",
   "execution_count": null,
   "metadata": {
    "pycharm": {
     "is_executing": true,
     "name": "#%%\n"
    }
   },
   "outputs": [],
   "source": [
    "df_fin"
   ]
  },
  {
   "cell_type": "code",
   "execution_count": null,
   "metadata": {
    "pycharm": {
     "name": "#%%\n"
    }
   },
   "outputs": [],
   "source": [
    "df_fin.to_csv(\"output/final_clustered.csv\", header=True, index=None, sep=',', float_format='%10.4f', mode='w')"
   ]
  }
 ],
 "metadata": {
  "kernelspec": {
   "display_name": "Python 3 (ipykernel)",
   "language": "python",
   "name": "python3"
  },
  "language_info": {
   "codemirror_mode": {
    "name": "ipython",
    "version": 3
   },
   "file_extension": ".py",
   "mimetype": "text/x-python",
   "name": "python",
   "nbconvert_exporter": "python",
   "pygments_lexer": "ipython3",
   "version": "3.8.10"
  }
 },
 "nbformat": 4,
 "nbformat_minor": 1
}
