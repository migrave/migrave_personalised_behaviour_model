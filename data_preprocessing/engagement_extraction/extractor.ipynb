{
 "cells": [
  {
   "cell_type": "code",
   "execution_count": 10,
   "outputs": [],
   "source": [
    "'''\n",
    "    Copyright 2022 by Michał Stolarz <michal.stolarz@h-brs.de>\n",
    "\n",
    "    This file is part of migrave_personalised_behaviour_model.\n",
    "    It is used for calculating estimated engagement for each user for each seocond of an interaction.\n",
    "\n",
    "    migrave_personalised_behaviour_model is free software: you can redistribute it and/or modify\n",
    "    it under the terms of the GNU Affero General Public License as published by\n",
    "    the Free Software Foundation, either version 3 of the License, or\n",
    "    (at your option) any later version.\n",
    "    migrave_personalised_behaviour_model is distributed in the hope that it will be useful,\n",
    "    but WITHOUT ANY WARRANTY; without even the implied warranty of\n",
    "    MERCHANTABILITY or FITNESS FOR A PARTICULAR PURPOSE.  See the\n",
    "    GNU Affero General Public License for more details.\n",
    "    You should have received a copy of the GNU Affero General Public License\n",
    "    along with migrave_personalised_behaviour_model. If not, see <http://www.gnu.org/licenses/>.\n",
    "'''\n",
    "\n",
    "from person_state_estimation import PersonStateEstimation\n",
    "import pandas as pd\n",
    "import os\n",
    "import yaml\n",
    "import numpy as np\n",
    "import matplotlib.pyplot as plt"
   ],
   "metadata": {
    "collapsed": false,
    "pycharm": {
     "name": "#%%\n"
    }
   }
  },
  {
   "cell_type": "code",
   "execution_count": 11,
   "outputs": [],
   "source": [
    "def parse_yaml_config(config_file):\n",
    "    if config_file and os.path.isfile(config_file):\n",
    "        configs = {}\n",
    "        with open(config_file, 'r') as infile:\n",
    "            configs = yaml.safe_load(infile)\n",
    "\n",
    "        return configs\n",
    "    else:\n",
    "        print(\"Config not found or not given\")"
   ],
   "metadata": {
    "collapsed": false,
    "pycharm": {
     "name": "#%%\n"
    }
   }
  },
  {
   "cell_type": "code",
   "execution_count": null,
   "outputs": [],
   "source": [
    "# Loading the configuration file\n",
    "config = parse_yaml_config(\"person_state_estimation_config.yaml\")\n",
    "path = \"\"\n",
    "person_state_estimator = PersonStateEstimation(config, path)\n",
    "person_state_estimator.load_classifier(\"models/migrave_engagement_model_xgboost.joblib\")"
   ],
   "metadata": {
    "collapsed": false,
    "pycharm": {
     "name": "#%%\n",
     "is_executing": true
    }
   }
  },
  {
   "cell_type": "code",
   "execution_count": 13,
   "outputs": [],
   "source": [
    "# Calculating estimated engagement for data from the tablet perspective\n",
    "df = pd.read_csv(\"data/openface_tablet.csv\")\n",
    "\n",
    "df_cpy = df.copy(deep=True)\n",
    "df_cpy.drop(['participant_id', 'secs', 'nsecs'], inplace=True, axis=1)\n",
    "\n",
    "df = df[['participant_id', 'secs']]\n",
    "df['engagement'] = 0\n",
    "\n",
    "eng_val, score_val = person_state_estimator.estimate_engagement(df_cpy)\n",
    "df['engagement'] = eng_val\n",
    "\n",
    "tablet_df = df.groupby([\"participant_id\", \"secs\", \"engagement\"]).size().unstack(fill_value=0)\n",
    "\n",
    "tablet_df['eng_tab'] = None\n",
    "\n",
    "for idx,row in tablet_df.iterrows():\n",
    "    val_sum = row[-1] + row[1]\n",
    "    tablet_df.loc[idx, 'eng_tab'] = -1*row[-1]/val_sum + 1*row[1]/val_sum"
   ],
   "metadata": {
    "collapsed": false,
    "pycharm": {
     "name": "#%%\n"
    }
   }
  },
  {
   "cell_type": "code",
   "execution_count": 14,
   "outputs": [],
   "source": [
    "# Calculating estimated engagement for data from the robot head perspective\n",
    "df1 = pd.read_csv(\"data/openface_qt.csv\")\n",
    "\n",
    "df1_cpy = df1.copy(deep=True)\n",
    "df1_cpy.drop(['participant_id', 'secs', 'nsecs'], inplace=True, axis=1)\n",
    "\n",
    "df1 = df1[['participant_id', 'secs']]\n",
    "df1['engagement'] = 0\n",
    "\n",
    "eng_val, score_val = person_state_estimator.estimate_engagement(df1_cpy)\n",
    "df1['engagement'] = eng_val\n",
    "\n",
    "qt_df = df1.groupby([\"participant_id\", \"secs\", \"engagement\"]).size().unstack(fill_value=0)\n",
    "\n",
    "qt_df['eng_qt'] = None\n",
    "\n",
    "for idx,row in qt_df.iterrows():\n",
    "    val_sum = row[-1] + row[1]\n",
    "    qt_df.loc[idx, 'eng_qt'] = -1*row[-1]/val_sum + 1*row[1]/val_sum"
   ],
   "metadata": {
    "collapsed": false,
    "pycharm": {
     "name": "#%%\n"
    }
   }
  },
  {
   "cell_type": "code",
   "execution_count": 15,
   "outputs": [],
   "source": [
    "# Plotting engagement evolution for one of the users\n",
    "eng_df = qt_df\n",
    "qt = eng_df.groupby(\"participant_id\").get_group('1CZ1CL1P')['eng_qt']"
   ],
   "metadata": {
    "collapsed": false,
    "pycharm": {
     "name": "#%%\n"
    }
   }
  },
  {
   "cell_type": "code",
   "execution_count": null,
   "outputs": [],
   "source": [
    "plt.figure(figsize=(20, 10))\n",
    "ax1 = qt.plot(label='QT')\n",
    "h1, l1 = ax1.get_legend_handles_labels()\n",
    "plt.legend(h1, l1, loc=2)\n",
    "plt.ylabel(\"Engagement score\")\n",
    "plt.xlabel(\"Time [s]\")\n",
    "plt.grid()"
   ],
   "metadata": {
    "collapsed": false,
    "pycharm": {
     "name": "#%%\n",
     "is_executing": true
    }
   }
  },
  {
   "cell_type": "code",
   "execution_count": 8,
   "outputs": [],
   "source": [
    "# Dropping expected engagement estimates from the tablet, as the model was trained on the data from the robot head perspective, thus a model has big misclassification rate\n",
    "eng_df = eng_df[[\"eng_qt\"]]\n",
    "eng_df_fin = eng_df.reset_index(level=[\"participant_id\", \"secs\"])"
   ],
   "metadata": {
    "collapsed": false,
    "pycharm": {
     "name": "#%%\n"
    }
   }
  },
  {
   "cell_type": "code",
   "execution_count": 9,
   "outputs": [],
   "source": [
    "eng_df_fin.to_csv(\"output/eng_final.csv\", header=True, index=None, sep=',', float_format='%10.4f', mode='w')"
   ],
   "metadata": {
    "collapsed": false,
    "pycharm": {
     "name": "#%%\n"
    }
   }
  }
 ],
 "metadata": {
  "kernelspec": {
   "display_name": "Python 3",
   "language": "python",
   "name": "python3"
  },
  "language_info": {
   "codemirror_mode": {
    "name": "ipython",
    "version": 2
   },
   "file_extension": ".py",
   "mimetype": "text/x-python",
   "name": "python",
   "nbconvert_exporter": "python",
   "pygments_lexer": "ipython2",
   "version": "2.7.6"
  }
 },
 "nbformat": 4,
 "nbformat_minor": 0
}