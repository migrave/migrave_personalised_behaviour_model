{
 "cells": [
  {
   "cell_type": "code",
   "execution_count": 10,
   "outputs": [],
   "source": [
    "import pandas as pd\n",
    "import os\n",
    "import yaml\n",
    "import numpy as np\n",
    "import matplotlib.pyplot as plt\n",
    "import matplotlib\n",
    "\n",
    "matplotlib.rc('font', **{'size': 35})\n",
    "#params = {'axes.labelsize': 48, 'legend.fontsize': 35, 'xtick.labelsize': 35, 'ytick.labelsize': 35}\n",
    "#matplotlib.rcParams.update(params)\n",
    "matplotlib.use(\"pgf\")\n",
    "matplotlib.rcParams.update({\n",
    "    'axes.labelsize': 100, 'legend.fontsize': 35, 'xtick.labelsize': 35, 'ytick.labelsize': 35,\n",
    "    \"pgf.texsystem\": \"pdflatex\",\n",
    "    'font.family': 'serif',\n",
    "    'text.usetex': True,\n",
    "    'pgf.rcfonts': False,\n",
    "})"
   ],
   "metadata": {
    "collapsed": false,
    "pycharm": {
     "name": "#%%\n"
    }
   }
  },
  {
   "cell_type": "code",
   "execution_count": 11,
   "outputs": [],
   "source": [
    "eng_df = pd.read_csv(\"eng_final.csv\")\n",
    "perf_df = pd.read_csv(\"perf_final.csv\")\n",
    "\n",
    "eng_df_group = eng_df.groupby(\"participant_id\")\n",
    "feedback_shift = 5 # CHECK IT!\n",
    "engagement_window = 3\n",
    "plot_users_games = True\n",
    "\n",
    "sequence_telling_duration_map = {3: 8, 5: 14, 7: 20} # MEASURE IT!\n",
    "switch_attention_duration = 1"
   ],
   "metadata": {
    "collapsed": false,
    "pycharm": {
     "name": "#%%\n"
    }
   }
  },
  {
   "cell_type": "code",
   "execution_count": 12,
   "outputs": [],
   "source": [
    "for key in eng_df_group.groups.keys():\n",
    "    # change to moving window (looking into the future) because timestamp is made before giving the feedback, that is why one can not see the change in engagement after giving the feedback\n",
    "    eng_qt = eng_df_group.get_group(key)['eng_qt'].ewm(alpha=0.75).mean()\n",
    "    #eng_tab = eng_df_group.get_group(key)['eng_tab'].ewm(alpha=0.75).mean()\n",
    "    #eng_qt = eng_df_group.get_group(key)['eng_qt'].rolling(engagement_window, center=True).mean()\n",
    "    #eng_tab = eng_df_group.get_group(key)['eng_tab'].rolling(engagement_window, center=True).mean()\n",
    "    eng_df.loc[eng_df['participant_id']==key, 'eng_qt'] = list(eng_qt)\n",
    "    #eng_df.loc[eng_df['participant_id']==key, 'eng_tab'] = list(eng_tab)\n",
    "\n",
    "eng_df.dropna(inplace=True)"
   ],
   "metadata": {
    "collapsed": false,
    "pycharm": {
     "name": "#%%\n"
    }
   }
  },
  {
   "cell_type": "code",
   "execution_count": 13,
   "outputs": [
    {
     "data": {
      "text/plain": "     participant_id        secs    eng_qt\n0          03DEQR1O  1647936429 -0.333333\n1          03DEQR1O  1647936430 -0.866667\n2          03DEQR1O  1647936431  0.250794\n3          03DEQR1O  1647936432  0.814902\n4          03DEQR1O  1647936433  0.953861\n...             ...         ...       ...\n9541       Z7U8NLC9  1648041551 -1.000000\n9542       Z7U8NLC9  1648041552 -1.000000\n9543       Z7U8NLC9  1648041553 -1.000000\n9544       Z7U8NLC9  1648041554 -1.000000\n9545       Z7U8NLC9  1648041555 -1.000000\n\n[9546 rows x 3 columns]",
      "text/html": "<div>\n<style scoped>\n    .dataframe tbody tr th:only-of-type {\n        vertical-align: middle;\n    }\n\n    .dataframe tbody tr th {\n        vertical-align: top;\n    }\n\n    .dataframe thead th {\n        text-align: right;\n    }\n</style>\n<table border=\"1\" class=\"dataframe\">\n  <thead>\n    <tr style=\"text-align: right;\">\n      <th></th>\n      <th>participant_id</th>\n      <th>secs</th>\n      <th>eng_qt</th>\n    </tr>\n  </thead>\n  <tbody>\n    <tr>\n      <th>0</th>\n      <td>03DEQR1O</td>\n      <td>1647936429</td>\n      <td>-0.333333</td>\n    </tr>\n    <tr>\n      <th>1</th>\n      <td>03DEQR1O</td>\n      <td>1647936430</td>\n      <td>-0.866667</td>\n    </tr>\n    <tr>\n      <th>2</th>\n      <td>03DEQR1O</td>\n      <td>1647936431</td>\n      <td>0.250794</td>\n    </tr>\n    <tr>\n      <th>3</th>\n      <td>03DEQR1O</td>\n      <td>1647936432</td>\n      <td>0.814902</td>\n    </tr>\n    <tr>\n      <th>4</th>\n      <td>03DEQR1O</td>\n      <td>1647936433</td>\n      <td>0.953861</td>\n    </tr>\n    <tr>\n      <th>...</th>\n      <td>...</td>\n      <td>...</td>\n      <td>...</td>\n    </tr>\n    <tr>\n      <th>9541</th>\n      <td>Z7U8NLC9</td>\n      <td>1648041551</td>\n      <td>-1.000000</td>\n    </tr>\n    <tr>\n      <th>9542</th>\n      <td>Z7U8NLC9</td>\n      <td>1648041552</td>\n      <td>-1.000000</td>\n    </tr>\n    <tr>\n      <th>9543</th>\n      <td>Z7U8NLC9</td>\n      <td>1648041553</td>\n      <td>-1.000000</td>\n    </tr>\n    <tr>\n      <th>9544</th>\n      <td>Z7U8NLC9</td>\n      <td>1648041554</td>\n      <td>-1.000000</td>\n    </tr>\n    <tr>\n      <th>9545</th>\n      <td>Z7U8NLC9</td>\n      <td>1648041555</td>\n      <td>-1.000000</td>\n    </tr>\n  </tbody>\n</table>\n<p>9546 rows × 3 columns</p>\n</div>"
     },
     "execution_count": 13,
     "metadata": {},
     "output_type": "execute_result"
    }
   ],
   "source": [
    "eng_df"
   ],
   "metadata": {
    "collapsed": false,
    "pycharm": {
     "name": "#%%\n"
    }
   }
  },
  {
   "cell_type": "code",
   "execution_count": 14,
   "outputs": [
    {
     "data": {
      "text/plain": "     participant_id        secs    eng_qt\n0          03DEQR1O  1647936429 -0.333333\n1          03DEQR1O  1647936430 -1.000000\n2          03DEQR1O  1647936431  0.600000\n3          03DEQR1O  1647936432  1.000000\n4          03DEQR1O  1647936433  1.000000\n...             ...         ...       ...\n9541       Z7U8NLC9  1648041551 -1.000000\n9542       Z7U8NLC9  1648041552 -1.000000\n9543       Z7U8NLC9  1648041553 -1.000000\n9544       Z7U8NLC9  1648041554 -1.000000\n9545       Z7U8NLC9  1648041555 -1.000000\n\n[9546 rows x 3 columns]",
      "text/html": "<div>\n<style scoped>\n    .dataframe tbody tr th:only-of-type {\n        vertical-align: middle;\n    }\n\n    .dataframe tbody tr th {\n        vertical-align: top;\n    }\n\n    .dataframe thead th {\n        text-align: right;\n    }\n</style>\n<table border=\"1\" class=\"dataframe\">\n  <thead>\n    <tr style=\"text-align: right;\">\n      <th></th>\n      <th>participant_id</th>\n      <th>secs</th>\n      <th>eng_qt</th>\n    </tr>\n  </thead>\n  <tbody>\n    <tr>\n      <th>0</th>\n      <td>03DEQR1O</td>\n      <td>1647936429</td>\n      <td>-0.333333</td>\n    </tr>\n    <tr>\n      <th>1</th>\n      <td>03DEQR1O</td>\n      <td>1647936430</td>\n      <td>-1.000000</td>\n    </tr>\n    <tr>\n      <th>2</th>\n      <td>03DEQR1O</td>\n      <td>1647936431</td>\n      <td>0.600000</td>\n    </tr>\n    <tr>\n      <th>3</th>\n      <td>03DEQR1O</td>\n      <td>1647936432</td>\n      <td>1.000000</td>\n    </tr>\n    <tr>\n      <th>4</th>\n      <td>03DEQR1O</td>\n      <td>1647936433</td>\n      <td>1.000000</td>\n    </tr>\n    <tr>\n      <th>...</th>\n      <td>...</td>\n      <td>...</td>\n      <td>...</td>\n    </tr>\n    <tr>\n      <th>9541</th>\n      <td>Z7U8NLC9</td>\n      <td>1648041551</td>\n      <td>-1.000000</td>\n    </tr>\n    <tr>\n      <th>9542</th>\n      <td>Z7U8NLC9</td>\n      <td>1648041552</td>\n      <td>-1.000000</td>\n    </tr>\n    <tr>\n      <th>9543</th>\n      <td>Z7U8NLC9</td>\n      <td>1648041553</td>\n      <td>-1.000000</td>\n    </tr>\n    <tr>\n      <th>9544</th>\n      <td>Z7U8NLC9</td>\n      <td>1648041554</td>\n      <td>-1.000000</td>\n    </tr>\n    <tr>\n      <th>9545</th>\n      <td>Z7U8NLC9</td>\n      <td>1648041555</td>\n      <td>-1.000000</td>\n    </tr>\n  </tbody>\n</table>\n<p>9546 rows × 3 columns</p>\n</div>"
     },
     "execution_count": 14,
     "metadata": {},
     "output_type": "execute_result"
    }
   ],
   "source": [
    "pd.read_csv(\"eng_final.csv\")"
   ],
   "metadata": {
    "collapsed": false,
    "pycharm": {
     "name": "#%%\n"
    }
   }
  },
  {
   "cell_type": "code",
   "execution_count": 15,
   "outputs": [],
   "source": [
    "# Measure engagement with the time shift when the feedback is given\n",
    "perf_df_cpy = perf_df.copy(deep=True)\n",
    "final_df = pd.merge(left=perf_df_cpy, right=eng_df, on=['participant_id', 'secs'])\n",
    "final_df['feedback'] = final_df['feedback'].shift(1, fill_value=0)\n",
    "final_df['start'] = 0\n",
    "final_df['talking_time'] = final_df['length']\n",
    "final_df = final_df.replace({'talking_time': sequence_telling_duration_map})\n",
    "\n",
    "for user in final_df['participant_id'].unique():\n",
    "    final_df.loc[final_df['participant_id']== user, 'start'] = \\\n",
    "        final_df.loc[final_df['participant_id']== user, 'secs'].shift(1, fill_value=0)\n",
    "    final_df.loc[(final_df['participant_id']== user) &\n",
    "                 (final_df['start']==0), 'start'] = \\\n",
    "        int(final_df.loc[(final_df['participant_id']== user) & (final_df['start']==0), 'secs'] - \\\n",
    "        final_df.loc[(final_df['participant_id']== user) & (final_df['start']==0), 'duration'] -\\\n",
    "        final_df.loc[(final_df['participant_id']== user) & (final_df['start']==0), 'talking_time'])\n",
    "\n",
    "# Average engagement over entire task solving time + time when feedback is given\n",
    "for timestamp in list(final_df['secs']):\n",
    "    timestamp = int(timestamp)\n",
    "    down_lim = int(final_df.loc[final_df['secs']==timestamp, 'start'])\n",
    "    up_lim = timestamp - int(final_df.loc[final_df['secs']==timestamp, 'duration'])\n",
    "\n",
    "    final_df.loc[final_df['secs']==timestamp, 'eng_qt'] = eng_df.loc[(eng_df['secs'] >= down_lim) & (eng_df['secs'] <= up_lim), 'eng_qt'].mean()\n",
    "    # sequence_telling_period = sequence_telling_duration_map[int(final_df.loc[final_df['secs']==timestamp, 'length'])]\n",
    "    # when feedback is given, engagement from qt should be higher, we account for that\n",
    "    # if int(final_df.loc[final_df['secs']==timestamp, 'feedback'])>0:\n",
    "    #      final_df.loc[final_df['secs']==timestamp, 'eng_qt'] = eng_df.loc[\n",
    "    #          ((eng_df['secs'] >= down_lim - sequence_telling_period - switch_attention_duration) &\n",
    "    #          (eng_df['secs'] <= down_lim - switch_attention_duration)) |\n",
    "    #          ((eng_df['secs'] >= timestamp + switch_attention_duration) &\n",
    "    #           (eng_df['secs'] <= timestamp + switch_attention_duration + feedback_shift)), 'eng_qt'].mean()\n",
    "    #\n",
    "    # # else we measure engagement before recreating the sequence\n",
    "    # else:\n",
    "    #     final_df.loc[final_df['secs']==timestamp, 'eng_qt'] = eng_df.loc[\n",
    "    #          (eng_df['secs'] >= down_lim - sequence_telling_period - switch_attention_duration) &\n",
    "    #          (eng_df['secs'] <= down_lim - switch_attention_duration), 'eng_qt'].mean()\n",
    "\n",
    "final_df.to_csv(\"output/final.csv\", header=True, index=None, sep=',', float_format='%10.4f', mode='w')"
   ],
   "metadata": {
    "collapsed": false,
    "pycharm": {
     "name": "#%%\n"
    }
   }
  },
  {
   "cell_type": "code",
   "execution_count": 16,
   "outputs": [
    {
     "data": {
      "text/plain": "    participant_id        secs  id  length  correct  feedback  duration  \\\n0         1CZ1CL1P  1648134409   0       7        0         0   17.0509   \n1         1CZ1CL1P  1648134452   1       7        0         0   12.4892   \n2         1CZ1CL1P  1648134490   2       5        0         1    6.6176   \n3         1CZ1CL1P  1648134519   3       5        0         0    5.2145   \n4         1CZ1CL1P  1648134550   4       3        1         2    6.2580   \n..             ...         ...  ..     ...      ...       ...       ...   \n195       1PE38CJI  1647955491   5       7        0         0    8.5898   \n196       1PE38CJI  1647955532   6       7        0         0   11.3520   \n197       1PE38CJI  1647955578   7       5        1         2   13.0154   \n198       1PE38CJI  1647955612   8       5        1         0    9.0707   \n199       1PE38CJI  1647955650   9       5        1         1    8.8822   \n\n       eng_qt       start  talking_time  \n0    1.000000  1648134371            20  \n1    0.311374  1648134409            20  \n2    0.661166  1648134452            14  \n3    0.672812  1648134490            14  \n4    0.606410  1648134519             8  \n..        ...         ...           ...  \n195 -0.796597  1647955454            20  \n196 -0.651613  1647955491            20  \n197 -0.458824  1647955532            14  \n198 -0.789743  1647955578            14  \n199 -0.753696  1647955612            14  \n\n[200 rows x 10 columns]",
      "text/html": "<div>\n<style scoped>\n    .dataframe tbody tr th:only-of-type {\n        vertical-align: middle;\n    }\n\n    .dataframe tbody tr th {\n        vertical-align: top;\n    }\n\n    .dataframe thead th {\n        text-align: right;\n    }\n</style>\n<table border=\"1\" class=\"dataframe\">\n  <thead>\n    <tr style=\"text-align: right;\">\n      <th></th>\n      <th>participant_id</th>\n      <th>secs</th>\n      <th>id</th>\n      <th>length</th>\n      <th>correct</th>\n      <th>feedback</th>\n      <th>duration</th>\n      <th>eng_qt</th>\n      <th>start</th>\n      <th>talking_time</th>\n    </tr>\n  </thead>\n  <tbody>\n    <tr>\n      <th>0</th>\n      <td>1CZ1CL1P</td>\n      <td>1648134409</td>\n      <td>0</td>\n      <td>7</td>\n      <td>0</td>\n      <td>0</td>\n      <td>17.0509</td>\n      <td>1.000000</td>\n      <td>1648134371</td>\n      <td>20</td>\n    </tr>\n    <tr>\n      <th>1</th>\n      <td>1CZ1CL1P</td>\n      <td>1648134452</td>\n      <td>1</td>\n      <td>7</td>\n      <td>0</td>\n      <td>0</td>\n      <td>12.4892</td>\n      <td>0.311374</td>\n      <td>1648134409</td>\n      <td>20</td>\n    </tr>\n    <tr>\n      <th>2</th>\n      <td>1CZ1CL1P</td>\n      <td>1648134490</td>\n      <td>2</td>\n      <td>5</td>\n      <td>0</td>\n      <td>1</td>\n      <td>6.6176</td>\n      <td>0.661166</td>\n      <td>1648134452</td>\n      <td>14</td>\n    </tr>\n    <tr>\n      <th>3</th>\n      <td>1CZ1CL1P</td>\n      <td>1648134519</td>\n      <td>3</td>\n      <td>5</td>\n      <td>0</td>\n      <td>0</td>\n      <td>5.2145</td>\n      <td>0.672812</td>\n      <td>1648134490</td>\n      <td>14</td>\n    </tr>\n    <tr>\n      <th>4</th>\n      <td>1CZ1CL1P</td>\n      <td>1648134550</td>\n      <td>4</td>\n      <td>3</td>\n      <td>1</td>\n      <td>2</td>\n      <td>6.2580</td>\n      <td>0.606410</td>\n      <td>1648134519</td>\n      <td>8</td>\n    </tr>\n    <tr>\n      <th>...</th>\n      <td>...</td>\n      <td>...</td>\n      <td>...</td>\n      <td>...</td>\n      <td>...</td>\n      <td>...</td>\n      <td>...</td>\n      <td>...</td>\n      <td>...</td>\n      <td>...</td>\n    </tr>\n    <tr>\n      <th>195</th>\n      <td>1PE38CJI</td>\n      <td>1647955491</td>\n      <td>5</td>\n      <td>7</td>\n      <td>0</td>\n      <td>0</td>\n      <td>8.5898</td>\n      <td>-0.796597</td>\n      <td>1647955454</td>\n      <td>20</td>\n    </tr>\n    <tr>\n      <th>196</th>\n      <td>1PE38CJI</td>\n      <td>1647955532</td>\n      <td>6</td>\n      <td>7</td>\n      <td>0</td>\n      <td>0</td>\n      <td>11.3520</td>\n      <td>-0.651613</td>\n      <td>1647955491</td>\n      <td>20</td>\n    </tr>\n    <tr>\n      <th>197</th>\n      <td>1PE38CJI</td>\n      <td>1647955578</td>\n      <td>7</td>\n      <td>5</td>\n      <td>1</td>\n      <td>2</td>\n      <td>13.0154</td>\n      <td>-0.458824</td>\n      <td>1647955532</td>\n      <td>14</td>\n    </tr>\n    <tr>\n      <th>198</th>\n      <td>1PE38CJI</td>\n      <td>1647955612</td>\n      <td>8</td>\n      <td>5</td>\n      <td>1</td>\n      <td>0</td>\n      <td>9.0707</td>\n      <td>-0.789743</td>\n      <td>1647955578</td>\n      <td>14</td>\n    </tr>\n    <tr>\n      <th>199</th>\n      <td>1PE38CJI</td>\n      <td>1647955650</td>\n      <td>9</td>\n      <td>5</td>\n      <td>1</td>\n      <td>1</td>\n      <td>8.8822</td>\n      <td>-0.753696</td>\n      <td>1647955612</td>\n      <td>14</td>\n    </tr>\n  </tbody>\n</table>\n<p>200 rows × 10 columns</p>\n</div>"
     },
     "execution_count": 16,
     "metadata": {},
     "output_type": "execute_result"
    }
   ],
   "source": [
    "final_df"
   ],
   "metadata": {
    "collapsed": false,
    "pycharm": {
     "name": "#%%\n"
    }
   }
  },
  {
   "cell_type": "code",
   "execution_count": 17,
   "outputs": [
    {
     "name": "stderr",
     "output_type": "stream",
     "text": [
      "/tmp/ipykernel_15653/3367009424.py:28: RuntimeWarning: More than 20 figures have been opened. Figures created through the pyplot interface (`matplotlib.pyplot.figure`) are retained until explicitly closed and may consume too much memory. (To control this warning, see the rcParam `figure.max_open_warning`).\n",
      "  plt.figure(figsize=(20, 4), dpi=100)\n"
     ]
    }
   ],
   "source": [
    "if plot_users_games:\n",
    "    for user in eng_df_group.groups.keys():\n",
    "        qt = eng_df.groupby(\"participant_id\").get_group(user)[['eng_qt', 'secs']]\n",
    "        time_offset = qt['secs'].to_numpy()[0]\n",
    "        qt['secs'] = qt['secs']-time_offset\n",
    "\n",
    "        length = perf_df.groupby(\"participant_id\").get_group(user)[['length', 'secs']]\n",
    "        length['secs'] = length['secs']-time_offset\n",
    "\n",
    "        length_3 = length.loc[length['length'] == 3, 'secs']\n",
    "        length_3 = np.array([length_3, length_3])\n",
    "\n",
    "        length_5 = length.loc[length['length'] == 5, 'secs']\n",
    "        length_5 = np.array([length_5, length_5])\n",
    "\n",
    "        length_7 = length.loc[length['length'] == 7, 'secs']\n",
    "        length_7 = np.array([length_7, length_7])\n",
    "\n",
    "        solving_start = perf_df.groupby('participant_id').get_group(user)[['duration', 'secs']].round()\n",
    "        solving_start['secs'] = solving_start['secs']-time_offset\n",
    "        solving_start = solving_start['secs'] - solving_start['duration']\n",
    "\n",
    "        feedback = perf_df.groupby(\"participant_id\").get_group(user)[['feedback', 'secs']]\n",
    "        feedback['secs'] = feedback['secs']-time_offset\n",
    "        feedback_en = feedback.loc[feedback['feedback']==1, 'secs']+feedback_shift\n",
    "        feedback_ch = feedback.loc[feedback['feedback']==2, 'secs']+feedback_shift\n",
    "\n",
    "        plt.figure(figsize=(20, 4), dpi=100)\n",
    "        plt.rc('axes', labelsize=100)\n",
    "        qt_handl, = plt.plot(qt.secs, qt.eng_qt, label=\"Engagement\", color='b')\n",
    "        #tab_handl, = plt.plot(tab.secs, tab.eng_tab, label=\"Engagement from tablet\", color='c')\n",
    "        length_3_handl = plt.plot(length_3, np.array([[-1, 1]]*length_3.shape[1]).T, label=\"End of level 1\", color='r', linestyle='-', linewidth=3)\n",
    "        length_5_handl = plt.plot(length_5, np.array([[-1, 1]]*length_5.shape[1]).T, label=\"End of level 2\", color='r', linestyle='--', linewidth=3)\n",
    "        length_7_handl = plt.plot(length_7, np.array([[-1, 1]]*length_7.shape[1]).T, label=\"End of level 3\", color='r', linestyle=':', linewidth=3)\n",
    "\n",
    "        solv_start_handl = plt.scatter(solving_start, [0]*solving_start.shape[0], label=\"Solving start\", color='black', linewidths=20, marker='x')\n",
    "\n",
    "        feedback_en_handl = plt.scatter(feedback_en, [0]*feedback_en.shape[0], label=\"Encouraging feedback\", color='m', linewidths=20, marker='o')\n",
    "        feedback_ch_handl = plt.scatter(feedback_ch, [0]*feedback_ch.shape[0], label=\"Challenging feedback\", color='y', linewidths=20, marker='o')\n",
    "\n",
    "        #plt.legend(handles=[qt_handl, tab_handl, length_3_handl[0], length_5_handl[0], length_7_handl[0], solv_start_handl, feedback_en_handl, feedback_ch_handl])\n",
    "        plt.legend(handles=[qt_handl, length_3_handl[0], length_5_handl[0], length_7_handl[0], solv_start_handl, feedback_en_handl, feedback_ch_handl], bbox_to_anchor=(1.33, 0.5), loc='center right')\n",
    "\n",
    "        if user in ['J0YH72SI', '5J7PWO3G']:\n",
    "            plt.ylabel(\"Engagement\")\n",
    "            plt.xlabel(\"Time [s]\")\n",
    "            if user=='J0YH72SI':\n",
    "                plt.xlim(50, 435)\n",
    "            elif user == '5J7PWO3G':\n",
    "                plt.xlim(50, 470)\n",
    "            plt.grid()\n",
    "            plt.savefig(f\"plots/{user}_sequence_learning.pdf\", bbox_inches='tight')\n",
    "        else:\n",
    "            plt.ylabel(\"Engagement\")\n",
    "            plt.xlabel(\"Time [s]\")\n",
    "            plt.grid()\n",
    "            plt.title(f\"Sequence learning game for user {user}\")\n",
    "            plt.savefig(f\"plots/{user}_sequence_learning.pdf\", bbox_inches='tight')"
   ],
   "metadata": {
    "collapsed": false,
    "pycharm": {
     "name": "#%%\n"
    }
   }
  },
  {
   "cell_type": "code",
   "execution_count": 18,
   "outputs": [
    {
     "data": {
      "text/plain": "   participant_id  improvement\n0        1CZ1CL1P     0.333333\n1        5J7PWO3G     0.666667\n2        SYBO5F61     1.000000\n3        6RGY40ES     0.666667\n4        PTEM0K27     0.333333\n5        Q4ABT87L     0.000000\n6        J0YH72SI     0.666667\n7        M4OE3RP5     0.333333\n8        1MBU59SJ     0.000000\n9        03DEQR1O     0.333333\n10       U3L9LFS0     0.000000\n11       A9XL9U1N     0.000000\n12       76HKXYD3     0.333333\n13       COT085MQ     0.500000\n14       25NQFBB2     0.666667\n15       F41CCF9W     1.000000\n16       Z7U8NLC9     0.666667\n17       Q4GTE6L4     0.666667\n18       6XTLNK55     0.000000\n19       1PE38CJI     0.333333",
      "text/html": "<div>\n<style scoped>\n    .dataframe tbody tr th:only-of-type {\n        vertical-align: middle;\n    }\n\n    .dataframe tbody tr th {\n        vertical-align: top;\n    }\n\n    .dataframe thead th {\n        text-align: right;\n    }\n</style>\n<table border=\"1\" class=\"dataframe\">\n  <thead>\n    <tr style=\"text-align: right;\">\n      <th></th>\n      <th>participant_id</th>\n      <th>improvement</th>\n    </tr>\n  </thead>\n  <tbody>\n    <tr>\n      <th>0</th>\n      <td>1CZ1CL1P</td>\n      <td>0.333333</td>\n    </tr>\n    <tr>\n      <th>1</th>\n      <td>5J7PWO3G</td>\n      <td>0.666667</td>\n    </tr>\n    <tr>\n      <th>2</th>\n      <td>SYBO5F61</td>\n      <td>1.000000</td>\n    </tr>\n    <tr>\n      <th>3</th>\n      <td>6RGY40ES</td>\n      <td>0.666667</td>\n    </tr>\n    <tr>\n      <th>4</th>\n      <td>PTEM0K27</td>\n      <td>0.333333</td>\n    </tr>\n    <tr>\n      <th>5</th>\n      <td>Q4ABT87L</td>\n      <td>0.000000</td>\n    </tr>\n    <tr>\n      <th>6</th>\n      <td>J0YH72SI</td>\n      <td>0.666667</td>\n    </tr>\n    <tr>\n      <th>7</th>\n      <td>M4OE3RP5</td>\n      <td>0.333333</td>\n    </tr>\n    <tr>\n      <th>8</th>\n      <td>1MBU59SJ</td>\n      <td>0.000000</td>\n    </tr>\n    <tr>\n      <th>9</th>\n      <td>03DEQR1O</td>\n      <td>0.333333</td>\n    </tr>\n    <tr>\n      <th>10</th>\n      <td>U3L9LFS0</td>\n      <td>0.000000</td>\n    </tr>\n    <tr>\n      <th>11</th>\n      <td>A9XL9U1N</td>\n      <td>0.000000</td>\n    </tr>\n    <tr>\n      <th>12</th>\n      <td>76HKXYD3</td>\n      <td>0.333333</td>\n    </tr>\n    <tr>\n      <th>13</th>\n      <td>COT085MQ</td>\n      <td>0.500000</td>\n    </tr>\n    <tr>\n      <th>14</th>\n      <td>25NQFBB2</td>\n      <td>0.666667</td>\n    </tr>\n    <tr>\n      <th>15</th>\n      <td>F41CCF9W</td>\n      <td>1.000000</td>\n    </tr>\n    <tr>\n      <th>16</th>\n      <td>Z7U8NLC9</td>\n      <td>0.666667</td>\n    </tr>\n    <tr>\n      <th>17</th>\n      <td>Q4GTE6L4</td>\n      <td>0.666667</td>\n    </tr>\n    <tr>\n      <th>18</th>\n      <td>6XTLNK55</td>\n      <td>0.000000</td>\n    </tr>\n    <tr>\n      <th>19</th>\n      <td>1PE38CJI</td>\n      <td>0.333333</td>\n    </tr>\n  </tbody>\n</table>\n</div>"
     },
     "execution_count": 18,
     "metadata": {},
     "output_type": "execute_result"
    }
   ],
   "source": [
    "# Checking if giving feedback has any effect\n",
    "comp_df = pd.DataFrame()\n",
    "comp_df['participant_id'] = final_df[\"participant_id\"].unique()\n",
    "comp_df['improvement'] = 0\n",
    "\n",
    "for user in final_df['participant_id'].unique():\n",
    "    eng_improvements = []\n",
    "    for level in final_df.loc[(final_df['participant_id']== user) &\n",
    "                         (final_df['feedback'] >= 1), 'length'].unique():\n",
    "        eng_improvement = \\\n",
    "            final_df.loc[(final_df['participant_id']== user) &\n",
    "                         (final_df['feedback'] >= 1) &\n",
    "                         (final_df['length'] == level), 'eng_qt'].mean() - \\\n",
    "            final_df.loc[(final_df['participant_id']== user) &\n",
    "                         (final_df['feedback'] == 0) &\n",
    "                         (final_df['length'] == level), 'eng_qt'].mean()\n",
    "        eng_improvements.append(1 if eng_improvement>0 else 0)\n",
    "\n",
    "    eng_improvements = np.array(eng_improvements)\n",
    "    prob = eng_improvements.sum()/eng_improvements.shape[0]\n",
    "    comp_df.loc[comp_df['participant_id'] == user, 'improvement'] = prob\n",
    "\n",
    "comp_df"
   ],
   "metadata": {
    "collapsed": false,
    "pycharm": {
     "name": "#%%\n"
    }
   }
  }
 ],
 "metadata": {
  "kernelspec": {
   "display_name": "Python 3",
   "language": "python",
   "name": "python3"
  },
  "language_info": {
   "codemirror_mode": {
    "name": "ipython",
    "version": 2
   },
   "file_extension": ".py",
   "mimetype": "text/x-python",
   "name": "python",
   "nbconvert_exporter": "python",
   "pygments_lexer": "ipython2",
   "version": "2.7.6"
  }
 },
 "nbformat": 4,
 "nbformat_minor": 0
}