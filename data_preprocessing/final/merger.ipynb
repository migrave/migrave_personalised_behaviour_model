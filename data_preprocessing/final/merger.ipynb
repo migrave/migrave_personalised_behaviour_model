{
 "cells": [
  {
   "cell_type": "code",
   "execution_count": 1,
   "outputs": [],
   "source": [
    "'''\n",
    "    Copyright 2022 by Michał Stolarz <michal.stolarz@h-brs.de>\n",
    "\n",
    "    This file is part of migrave_personalised_behaviour_model.\n",
    "    It is used for merging two types of data:\n",
    "    (i) expected engagement that is calculated in the engagement_extraction (eng_final.csv),\n",
    "    (ii) user game performance data that was collected from the experiments (perf_final.csv),\n",
    "    with respect to the timestamps and plotting the full evolution of the interaction during the sequence learning game.\n",
    "\n",
    "    migrave_personalised_behaviour_model is free software: you can redistribute it and/or modify\n",
    "    it under the terms of the GNU Affero General Public License as published by\n",
    "    the Free Software Foundation, either version 3 of the License, or\n",
    "    (at your option) any later version.\n",
    "    migrave_personalised_behaviour_model is distributed in the hope that it will be useful,\n",
    "    but WITHOUT ANY WARRANTY; without even the implied warranty of\n",
    "    MERCHANTABILITY or FITNESS FOR A PARTICULAR PURPOSE.  See the\n",
    "    GNU Affero General Public License for more details.\n",
    "    You should have received a copy of the GNU Affero General Public License\n",
    "    along with migrave_personalised_behaviour_model. If not, see <http://www.gnu.org/licenses/>.\n",
    "'''\n",
    "\n",
    "import pandas as pd\n",
    "import os\n",
    "import yaml\n",
    "import numpy as np\n",
    "import matplotlib.pyplot as plt\n",
    "import matplotlib\n",
    "\n",
    "matplotlib.rc('font', **{'size': 35})\n",
    "matplotlib.use(\"pgf\")\n",
    "matplotlib.rcParams.update({\n",
    "    'axes.labelsize': 100, 'legend.fontsize': 35, 'xtick.labelsize': 35, 'ytick.labelsize': 35,\n",
    "    \"pgf.texsystem\": \"pdflatex\",\n",
    "    'font.family': 'serif',\n",
    "    'text.usetex': True,\n",
    "    'pgf.rcfonts': False,\n",
    "})"
   ],
   "metadata": {
    "collapsed": false,
    "pycharm": {
     "name": "#%%\n"
    }
   }
  },
  {
   "cell_type": "code",
   "execution_count": 2,
   "outputs": [],
   "source": [
    "# Lodaing engagement data\n",
    "eng_df = pd.read_csv(\"eng_final.csv\")\n",
    "# Loadinging game performance data\n",
    "perf_df = pd.read_csv(\"perf_final.csv\")\n",
    "eng_df_group = eng_df.groupby(\"participant_id\")\n",
    "feedback_shift = 5\n",
    "plot_users_games = True\n",
    "\n",
    "# Dictionary with the duration time of saying the sequence (of the specified length) by the robot\n",
    "sequence_telling_duration_map = {3: 8, 5: 14, 7: 20}\n",
    "switch_attention_duration = 1"
   ],
   "metadata": {
    "collapsed": false,
    "pycharm": {
     "name": "#%%\n"
    }
   }
  },
  {
   "cell_type": "code",
   "execution_count": 3,
   "outputs": [],
   "source": [
    "# Exponentially weighted smoothing of the expected engagement data\n",
    "for key in eng_df_group.groups.keys():\n",
    "    eng_qt = eng_df_group.get_group(key)['eng_qt'].ewm(alpha=0.75).mean()\n",
    "    eng_df.loc[eng_df['participant_id']==key, 'eng_qt'] = list(eng_qt)\n",
    "\n",
    "eng_df.dropna(inplace=True)"
   ],
   "metadata": {
    "collapsed": false,
    "pycharm": {
     "name": "#%%\n"
    }
   }
  },
  {
   "cell_type": "code",
   "execution_count": null,
   "outputs": [],
   "source": [
    "eng_df"
   ],
   "metadata": {
    "collapsed": false,
    "pycharm": {
     "name": "#%%\n",
     "is_executing": true
    }
   }
  },
  {
   "cell_type": "code",
   "execution_count": 5,
   "outputs": [],
   "source": [
    "# Merging engagement and performance data\n",
    "\n",
    "# Measure engagement with the time shift when the feedback is given\n",
    "perf_df_cpy = perf_df.copy(deep=True)\n",
    "final_df = pd.merge(left=perf_df_cpy, right=eng_df, on=['participant_id', 'secs'])\n",
    "final_df['feedback'] = final_df['feedback'].shift(1, fill_value=0)\n",
    "final_df['start'] = 0\n",
    "final_df['talking_time'] = final_df['length']\n",
    "final_df = final_df.replace({'talking_time': sequence_telling_duration_map})\n",
    "\n",
    "for user in final_df['participant_id'].unique():\n",
    "    final_df.loc[final_df['participant_id']== user, 'start'] = \\\n",
    "        final_df.loc[final_df['participant_id']== user, 'secs'].shift(1, fill_value=0)\n",
    "    final_df.loc[(final_df['participant_id']== user) &\n",
    "                 (final_df['start']==0), 'start'] = \\\n",
    "        int(final_df.loc[(final_df['participant_id']== user) & (final_df['start']==0), 'secs'] - \\\n",
    "        final_df.loc[(final_df['participant_id']== user) & (final_df['start']==0), 'duration'] -\\\n",
    "        final_df.loc[(final_df['participant_id']== user) & (final_df['start']==0), 'talking_time'])\n",
    "\n",
    "# Average engagement over entire task solving time + time when feedback is given\n",
    "for timestamp in list(final_df['secs']):\n",
    "    timestamp = int(timestamp)\n",
    "    down_lim = int(final_df.loc[final_df['secs']==timestamp, 'start'])\n",
    "    up_lim = timestamp - int(final_df.loc[final_df['secs']==timestamp, 'duration'])\n",
    "\n",
    "    final_df.loc[final_df['secs']==timestamp, 'eng_qt'] = eng_df.loc[(eng_df['secs'] >= down_lim) & (eng_df['secs'] <= up_lim), 'eng_qt'].mean()\n",
    "\n",
    "final_df.to_csv(\"output/final.csv\", header=True, index=None, sep=',', float_format='%10.4f', mode='w')"
   ],
   "metadata": {
    "collapsed": false,
    "pycharm": {
     "name": "#%%\n"
    }
   }
  },
  {
   "cell_type": "code",
   "execution_count": null,
   "outputs": [],
   "source": [
    "final_df"
   ],
   "metadata": {
    "collapsed": false,
    "pycharm": {
     "name": "#%%\n",
     "is_executing": true
    }
   }
  },
  {
   "cell_type": "code",
   "execution_count": 7,
   "outputs": [],
   "source": [
    "# Plotting the evolution of the expected engagement over the entire interaction\n",
    "if plot_users_games:\n",
    "    for user in eng_df_group.groups.keys():\n",
    "        qt = eng_df.groupby(\"participant_id\").get_group(user)[['eng_qt', 'secs']]\n",
    "        time_offset = qt['secs'].to_numpy()[0]\n",
    "        qt['secs'] = qt['secs']-time_offset\n",
    "\n",
    "        length = perf_df.groupby(\"participant_id\").get_group(user)[['length', 'secs']]\n",
    "        length['secs'] = length['secs']-time_offset\n",
    "\n",
    "        length_3 = length.loc[length['length'] == 3, 'secs']\n",
    "        length_3 = np.array([length_3, length_3])\n",
    "\n",
    "        length_5 = length.loc[length['length'] == 5, 'secs']\n",
    "        length_5 = np.array([length_5, length_5])\n",
    "\n",
    "        length_7 = length.loc[length['length'] == 7, 'secs']\n",
    "        length_7 = np.array([length_7, length_7])\n",
    "\n",
    "        solving_start = perf_df.groupby('participant_id').get_group(user)[['duration', 'secs']].round()\n",
    "        solving_start['secs'] = solving_start['secs']-time_offset\n",
    "        solving_start = solving_start['secs'] - solving_start['duration']\n",
    "\n",
    "        feedback = perf_df.groupby(\"participant_id\").get_group(user)[['feedback', 'secs']]\n",
    "        feedback['secs'] = feedback['secs']-time_offset\n",
    "        feedback_en = feedback.loc[feedback['feedback']==1, 'secs']+feedback_shift\n",
    "        feedback_ch = feedback.loc[feedback['feedback']==2, 'secs']+feedback_shift\n",
    "\n",
    "        plt.figure(figsize=(20, 4), dpi=100)\n",
    "        plt.rc('axes', labelsize=100)\n",
    "        qt_handl, = plt.plot(qt.secs, qt.eng_qt, label=\"Engagement\", color='b')\n",
    "        #tab_handl, = plt.plot(tab.secs, tab.eng_tab, label=\"Engagement from tablet\", color='c')\n",
    "        length_3_handl = plt.plot(length_3, np.array([[-1, 1]]*length_3.shape[1]).T, label=\"End of level 1\", color='r', linestyle='-', linewidth=3)\n",
    "        length_5_handl = plt.plot(length_5, np.array([[-1, 1]]*length_5.shape[1]).T, label=\"End of level 2\", color='r', linestyle='--', linewidth=3)\n",
    "        length_7_handl = plt.plot(length_7, np.array([[-1, 1]]*length_7.shape[1]).T, label=\"End of level 3\", color='r', linestyle=':', linewidth=3)\n",
    "\n",
    "        solv_start_handl = plt.scatter(solving_start, [0]*solving_start.shape[0], label=\"Solving start\", color='black', linewidths=20, marker='x')\n",
    "\n",
    "        feedback_en_handl = plt.scatter(feedback_en, [0]*feedback_en.shape[0], label=\"Encouraging feedback\", color='m', linewidths=20, marker='o')\n",
    "        feedback_ch_handl = plt.scatter(feedback_ch, [0]*feedback_ch.shape[0], label=\"Challenging feedback\", color='y', linewidths=20, marker='o')\n",
    "\n",
    "        plt.legend(handles=[qt_handl, length_3_handl[0], length_5_handl[0], length_7_handl[0], solv_start_handl, feedback_en_handl, feedback_ch_handl], bbox_to_anchor=(1.33, 0.5), loc='center right')\n",
    "\n",
    "        # Plots for the report\n",
    "        if user in ['J0YH72SI', '5J7PWO3G']:\n",
    "            plt.ylabel(\"Engagement\")\n",
    "            plt.xlabel(\"Time [s]\")\n",
    "            if user=='J0YH72SI':\n",
    "                plt.xlim(50, 435)\n",
    "            elif user == '5J7PWO3G':\n",
    "                plt.xlim(50, 470)\n",
    "            plt.grid()\n",
    "            plt.savefig(f\"plots/{user}_sequence_learning.pdf\", bbox_inches='tight')\n",
    "        else:\n",
    "            plt.ylabel(\"Engagement\")\n",
    "            plt.xlabel(\"Time [s]\")\n",
    "            plt.grid()\n",
    "            plt.title(f\"Sequence learning game for user {user}\")\n",
    "            plt.savefig(f\"plots/{user}_sequence_learning.pdf\", bbox_inches='tight')"
   ],
   "metadata": {
    "collapsed": false,
    "pycharm": {
     "name": "#%%\n"
    }
   }
  }
 ],
 "metadata": {
  "kernelspec": {
   "display_name": "Python 3",
   "language": "python",
   "name": "python3"
  },
  "language_info": {
   "codemirror_mode": {
    "name": "ipython",
    "version": 2
   },
   "file_extension": ".py",
   "mimetype": "text/x-python",
   "name": "python",
   "nbconvert_exporter": "python",
   "pygments_lexer": "ipython2",
   "version": "2.7.6"
  }
 },
 "nbformat": 4,
 "nbformat_minor": 0
}